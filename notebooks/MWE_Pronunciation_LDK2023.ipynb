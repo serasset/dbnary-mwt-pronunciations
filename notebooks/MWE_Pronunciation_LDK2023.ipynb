{
 "nbformat": 4,
 "nbformat_minor": 0,
 "metadata": {
  "colab": {
   "provenance": [],
   "authorship_tag": "ABX9TyPyP3NxoRNRrmg8c1ENAyxQ"
  },
  "kernelspec": {
   "name": "python3",
   "display_name": "Python 3"
  },
  "language_info": {
   "name": "python"
  }
 },
 "cells": [
  {
   "cell_type": "code",
   "execution_count": 1,
   "metadata": {
    "colab": {
     "base_uri": "https://localhost:8080/"
    },
    "id": "LRW7J2ip83DF",
    "executionInfo": {
     "status": "ok",
     "timestamp": 1679641319879,
     "user_tz": -60,
     "elapsed": 11218,
     "user": {
      "displayName": "Gilles Sérasset",
      "userId": "05343768195121565020"
     }
    },
    "outputId": "6d25981b-9bd4-4c3e-cb90-fcf54ef10a31"
   },
   "outputs": [],
   "source": [
    "#%pip install pandas\n",
    "#%pip install sparqlwrapper"
   ]
  },
  {
   "cell_type": "markdown",
   "source": [
    "### Setup the environment by creating a wrapper to query a public (limited) SPARQL using OFFSET/LIMIT windowing"
   ],
   "metadata": {
    "collapsed": false
   }
  },
  {
   "cell_type": "code",
   "source": [
    "from typing import NoReturn, Tuple, Union, List\n",
    "\n",
    "import pandas as pd\n",
    "from SPARQLWrapper import SPARQLWrapper, Wrapper\n",
    "\n",
    "class SPARQLEndpoint:\n",
    "    \"\"\"\n",
    "    Class allowing to make a query on a remote SPARQL server, its main characteristics are :\n",
    "     - Taking into account the big answers by concatenating them as they are received\n",
    "     - Ability to access the size of the database\n",
    "     - Ability to retrieve the response in `pandas` data frame format\n",
    "    \"\"\"\n",
    "\n",
    "    def __init__(self, endpoint: str, verbose: bool = False) -> NoReturn:\n",
    "        \"\"\"\n",
    "        :param endpoint: Url to the remote SPARQL service\n",
    "        :param verbose: If the detail text will be displayed\n",
    "        \"\"\"\n",
    "        self.sparql = SPARQLWrapper(endpoint)\n",
    "        self.sparql.setReturnFormat(\"json\")\n",
    "\n",
    "        self.verbose: bool = verbose\n",
    "        self.is_widget: bool = False\n",
    "\n",
    "    def query_once(self, query: str) -> Tuple[pd.DataFrame, Union[int, None]]:\n",
    "        \"\"\"\n",
    "        Helper function to convert SPARQL results into a Pandas data frame.\n",
    "\n",
    "        returns the dataframe along with an indication of server limit hit.\n",
    "\n",
    "        The second value of the tuple is either an int (we hit a server limit of this amount)\n",
    "\n",
    "        Credit: Douglas Fils\n",
    "\n",
    "        :param query: The query to perform\n",
    "        \"\"\"\n",
    "\n",
    "        self.sparql.setQuery(query)\n",
    "\n",
    "        processed_results: Wrapper.QueryResult = self.sparql.query()\n",
    "\n",
    "        # We will check if the results are incomplete due to server limitations\n",
    "        max_size: Union[int, None] = None\n",
    "        if 'x-sparql-maxrows' in processed_results.info():\n",
    "            max_size = int(processed_results.info()['x-sparql-maxrows'])\n",
    "\n",
    "        if 'x-sql-state' in processed_results.info():\n",
    "            max_size = 0\n",
    "\n",
    "        processed_results: dict = processed_results.convert()\n",
    "\n",
    "        cols: list[str] = processed_results['head']['vars']\n",
    "\n",
    "        out: list[list[str]] = [[row.get(c, {}).get('value') for c in cols] for row in\n",
    "                                processed_results['results']['bindings']]\n",
    "        return pd.DataFrame(out, columns=cols), max_size\n",
    "\n",
    "    def query_all(self, query: str) -> pd.DataFrame:\n",
    "        origin: int = 0\n",
    "        df, limit = self.query_once(query)\n",
    "        frames: List[pd.DataFrame] = [df]\n",
    "        original_limit: int = limit\n",
    "        while limit:\n",
    "            origin += limit\n",
    "            if self.verbose:\n",
    "                print('\\r', f\"Hit the server limit, offseting query to {origin}\", end='')\n",
    "            limited_query = query + f'\\n OFFSET {origin} LIMIT {original_limit}'\n",
    "            df, limit = self.query_once(limited_query)\n",
    "            frames.append(df)\n",
    "        result = pd.concat(frames, ignore_index=True)\n",
    "        if self.verbose:\n",
    "            print(f\" --> Retrieved {len(result)} rows\", end='\\n')\n",
    "        return result"
   ],
   "metadata": {
    "id": "ZDW_RFG788ph",
    "executionInfo": {
     "status": "ok",
     "timestamp": 1679641346129,
     "user_tz": -60,
     "elapsed": 715,
     "user": {
      "displayName": "Gilles Sérasset",
      "userId": "05343768195121565020"
     }
    }
   },
   "execution_count": 2,
   "outputs": []
  },
  {
   "cell_type": "markdown",
   "source": [
    "### Querying pronunciation data"
   ],
   "metadata": {
    "collapsed": false
   }
  },
  {
   "cell_type": "code",
   "source": [
    "q_without_pron = \"\"\"\n",
    "PREFIX rdfs: <http://www.w3.org/2000/01/rdf-schema#>\n",
    "PREFIX ontolex: <http://www.w3.org/ns/lemon/ontolex#>\n",
    "\n",
    "SELECT ?p ?e ?t ?pr ?mweOrLE\n",
    "FROM <http://kaiko.getalp.org/dbnary/eng>\n",
    "WHERE {\n",
    "  ?e a ?mweOrLE ; rdfs:label ?t .\n",
    "  OPTIONAL { ?e ontolex:canonicalForm / ontolex:phoneticRep ?pr }\n",
    "  FILTER not exists { ?e ontolex:canonicalForm/ontolex:phoneticRep ?pr}\n",
    "\n",
    "  VALUES ?mweOrLE\n",
    "           { %%TYPE%% }\n",
    "  ?p a dbnary:Page ; dbnary:describes ?e\n",
    "}\"\"\"\n",
    "\n",
    "q_with_pron = \"\"\"\n",
    "PREFIX rdfs: <http://www.w3.org/2000/01/rdf-schema#>\n",
    "PREFIX ontolex: <http://www.w3.org/ns/lemon/ontolex#>\n",
    "\n",
    "SELECT ?p ?e ?t ?pr ?mweOrLE\n",
    "FROM <http://kaiko.getalp.org/dbnary/eng>\n",
    "WHERE {\n",
    "  ?e a ?mweOrLE ; rdfs:label ?t ;\n",
    "  ontolex:canonicalForm / ontolex:phoneticRep ?pr.\n",
    "  VALUES ?mweOrLE { %%TYPE%% }\n",
    "  ?p a dbnary:Page ; dbnary:describes ?e\n",
    "}\"\"\""
   ],
   "metadata": {
    "id": "fdbtk8yi9Rup",
    "executionInfo": {
     "status": "ok",
     "timestamp": 1679641335689,
     "user_tz": -60,
     "elapsed": 2,
     "user": {
      "displayName": "Gilles Sérasset",
      "userId": "05343768195121565020"
     }
    }
   },
   "execution_count": 3,
   "outputs": []
  },
  {
   "cell_type": "code",
   "source": [
    "endpoint = \"http://kaiko.getalp.org/sparql\"\n",
    "\n",
    "dbnary = SPARQLEndpoint(endpoint, True)"
   ],
   "metadata": {
    "id": "9COuTVgT-M7_",
    "executionInfo": {
     "status": "ok",
     "timestamp": 1679641351974,
     "user_tz": -60,
     "elapsed": 665,
     "user": {
      "displayName": "Gilles Sérasset",
      "userId": "05343768195121565020"
     }
    }
   },
   "execution_count": 4,
   "outputs": []
  },
  {
   "cell_type": "code",
   "source": [
    "mwe_with_pron = dbnary.query_all(q_with_pron.replace('%%TYPE%%', 'ontolex:MultiWordExpression'))"
   ],
   "metadata": {
    "colab": {
     "base_uri": "https://localhost:8080/"
    },
    "id": "Fvn0l9v0-VJ_",
    "executionInfo": {
     "status": "ok",
     "timestamp": 1679641392931,
     "user_tz": -60,
     "elapsed": 36129,
     "user": {
      "displayName": "Gilles Sérasset",
      "userId": "05343768195121565020"
     }
    },
    "outputId": "4ec79cd0-aec1-4681-d5ba-42b4df0f334d"
   },
   "execution_count": 5,
   "outputs": [
    {
     "name": "stdout",
     "output_type": "stream",
     "text": [
      " --> Retrieved 8143 rows\n"
     ]
    }
   ]
  },
  {
   "cell_type": "code",
   "execution_count": 162,
   "outputs": [
    {
     "data": {
      "text/plain": "p          4656\ne          4977\nt          4656\npr         7366\nmweOrLE       1\ndtype: int64"
     },
     "execution_count": 162,
     "metadata": {},
     "output_type": "execute_result"
    }
   ],
   "source": [
    "mwe_with_pron.nunique()"
   ],
   "metadata": {
    "collapsed": false
   }
  },
  {
   "cell_type": "code",
   "execution_count": 165,
   "outputs": [
    {
     "data": {
      "text/plain": "p     210845\ne     214243\npr         0\ndtype: int64"
     },
     "execution_count": 165,
     "metadata": {},
     "output_type": "execute_result"
    }
   ],
   "source": [
    "mwe_without_pron[['p', 'e', 'pr']].nunique()"
   ],
   "metadata": {
    "collapsed": false
   }
  },
  {
   "cell_type": "code",
   "execution_count": 6,
   "outputs": [
    {
     "name": "stdout",
     "output_type": "stream",
     "text": [
      " Hit the server limit, offseting query to 210000 --> Retrieved 214244 rows\n"
     ]
    }
   ],
   "source": [
    "mwe_without_pron = dbnary.query_all(q_without_pron.replace('%%TYPE%%', 'ontolex:MultiWordExpression'))"
   ],
   "metadata": {
    "collapsed": false
   }
  },
  {
   "cell_type": "code",
   "source": [
    "entries_with_pron = dbnary.query_all(q_with_pron.replace('%%TYPE%%', 'ontolex:LexicalEntry'))"
   ],
   "metadata": {
    "colab": {
     "base_uri": "https://localhost:8080/"
    },
    "id": "l0vHfFFP-eDL",
    "executionInfo": {
     "status": "ok",
     "timestamp": 1679641447631,
     "user_tz": -60,
     "elapsed": 38582,
     "user": {
      "displayName": "Gilles Sérasset",
      "userId": "05343768195121565020"
     }
    },
    "outputId": "288dfed2-a04c-4be9-eedf-6b50d8c216f6"
   },
   "execution_count": 7,
   "outputs": [
    {
     "name": "stdout",
     "output_type": "stream",
     "text": [
      " Hit the server limit, offseting query to 170000 --> Retrieved 173517 rows\n"
     ]
    }
   ]
  },
  {
   "cell_type": "code",
   "source": [
    "entries_with_pron"
   ],
   "metadata": {
    "colab": {
     "base_uri": "https://localhost:8080/",
     "height": 424
    },
    "id": "zP9hOQp0K21o",
    "executionInfo": {
     "status": "ok",
     "timestamp": 1679603514123,
     "user_tz": -60,
     "elapsed": 494,
     "user": {
      "displayName": "Gilles Sérasset",
      "userId": "05343768195121565020"
     }
    },
    "outputId": "ed48e749-1d8f-44a3-d101-4826ddd69eb7"
   },
   "execution_count": 49,
   "outputs": [
    {
     "data": {
      "text/plain": "                                                       p  \\\n0        http://kaiko.getalp.org/dbnary/eng/Bloomingdale   \n1                http://kaiko.getalp.org/dbnary/eng/DINB   \n2             http://kaiko.getalp.org/dbnary/eng/Gowanus   \n3                http://kaiko.getalp.org/dbnary/eng/Juul   \n4                http://kaiko.getalp.org/dbnary/eng/Juul   \n...                                                  ...   \n173512       http://kaiko.getalp.org/dbnary/eng/unattach   \n173513      http://kaiko.getalp.org/dbnary/eng/unctional   \n173514      http://kaiko.getalp.org/dbnary/eng/unctional   \n173515  http://kaiko.getalp.org/dbnary/eng/updateability   \n173516       http://kaiko.getalp.org/dbnary/eng/westaboo   \n\n                                                        e              t  \\\n0       http://kaiko.getalp.org/dbnary/eng/Bloomingdal...   Bloomingdale   \n1        http://kaiko.getalp.org/dbnary/eng/DINB__Noun__1           DINB   \n2       http://kaiko.getalp.org/dbnary/eng/Gowanus__Pr...        Gowanus   \n3        http://kaiko.getalp.org/dbnary/eng/Juul__Noun__1           Juul   \n4       http://kaiko.getalp.org/dbnary/eng/Juul__Prope...           Juul   \n...                                                   ...            ...   \n173512  http://kaiko.getalp.org/dbnary/eng/unattach__V...       unattach   \n173513  http://kaiko.getalp.org/dbnary/eng/unctional__...      unctional   \n173514  http://kaiko.getalp.org/dbnary/eng/unctional__...      unctional   \n173515  http://kaiko.getalp.org/dbnary/eng/updateabili...  updateability   \n173516  http://kaiko.getalp.org/dbnary/eng/westaboo__N...       westaboo   \n\n                        pr                                          mweOrLE  \n0          /ˈblu.mɪŋ.deɪl/  http://www.w3.org/ns/lemon/ontolex#LexicalEntry  \n1                /ˈdɪnbiː/  http://www.w3.org/ns/lemon/ontolex#LexicalEntry  \n2              /ɡəˈwɑːnəs/  http://www.w3.org/ns/lemon/ontolex#LexicalEntry  \n3                 /d͡ʒuːl/  http://www.w3.org/ns/lemon/ontolex#LexicalEntry  \n4                 /d͡ʒuːl/  http://www.w3.org/ns/lemon/ontolex#LexicalEntry  \n...                    ...                                              ...  \n173512        /ˌʌnəˈtæt͡ʃ/  http://www.w3.org/ns/lemon/ontolex#LexicalEntry  \n173513        /ˈʌŋkt͡ʃnəl/  http://www.w3.org/ns/lemon/ontolex#LexicalEntry  \n173514       /ˈʌŋkt͡ʃənəl/  http://www.w3.org/ns/lemon/ontolex#LexicalEntry  \n173515  /ˈʌp.deɪtəˈbɪlɪti/  http://www.w3.org/ns/lemon/ontolex#LexicalEntry  \n173516         /ˈwɛstəbuː/  http://www.w3.org/ns/lemon/ontolex#LexicalEntry  \n\n[173517 rows x 5 columns]",
      "text/html": "<div>\n<style scoped>\n    .dataframe tbody tr th:only-of-type {\n        vertical-align: middle;\n    }\n\n    .dataframe tbody tr th {\n        vertical-align: top;\n    }\n\n    .dataframe thead th {\n        text-align: right;\n    }\n</style>\n<table border=\"1\" class=\"dataframe\">\n  <thead>\n    <tr style=\"text-align: right;\">\n      <th></th>\n      <th>p</th>\n      <th>e</th>\n      <th>t</th>\n      <th>pr</th>\n      <th>mweOrLE</th>\n    </tr>\n  </thead>\n  <tbody>\n    <tr>\n      <th>0</th>\n      <td>http://kaiko.getalp.org/dbnary/eng/Bloomingdale</td>\n      <td>http://kaiko.getalp.org/dbnary/eng/Bloomingdal...</td>\n      <td>Bloomingdale</td>\n      <td>/ˈblu.mɪŋ.deɪl/</td>\n      <td>http://www.w3.org/ns/lemon/ontolex#LexicalEntry</td>\n    </tr>\n    <tr>\n      <th>1</th>\n      <td>http://kaiko.getalp.org/dbnary/eng/DINB</td>\n      <td>http://kaiko.getalp.org/dbnary/eng/DINB__Noun__1</td>\n      <td>DINB</td>\n      <td>/ˈdɪnbiː/</td>\n      <td>http://www.w3.org/ns/lemon/ontolex#LexicalEntry</td>\n    </tr>\n    <tr>\n      <th>2</th>\n      <td>http://kaiko.getalp.org/dbnary/eng/Gowanus</td>\n      <td>http://kaiko.getalp.org/dbnary/eng/Gowanus__Pr...</td>\n      <td>Gowanus</td>\n      <td>/ɡəˈwɑːnəs/</td>\n      <td>http://www.w3.org/ns/lemon/ontolex#LexicalEntry</td>\n    </tr>\n    <tr>\n      <th>3</th>\n      <td>http://kaiko.getalp.org/dbnary/eng/Juul</td>\n      <td>http://kaiko.getalp.org/dbnary/eng/Juul__Noun__1</td>\n      <td>Juul</td>\n      <td>/d͡ʒuːl/</td>\n      <td>http://www.w3.org/ns/lemon/ontolex#LexicalEntry</td>\n    </tr>\n    <tr>\n      <th>4</th>\n      <td>http://kaiko.getalp.org/dbnary/eng/Juul</td>\n      <td>http://kaiko.getalp.org/dbnary/eng/Juul__Prope...</td>\n      <td>Juul</td>\n      <td>/d͡ʒuːl/</td>\n      <td>http://www.w3.org/ns/lemon/ontolex#LexicalEntry</td>\n    </tr>\n    <tr>\n      <th>...</th>\n      <td>...</td>\n      <td>...</td>\n      <td>...</td>\n      <td>...</td>\n      <td>...</td>\n    </tr>\n    <tr>\n      <th>173512</th>\n      <td>http://kaiko.getalp.org/dbnary/eng/unattach</td>\n      <td>http://kaiko.getalp.org/dbnary/eng/unattach__V...</td>\n      <td>unattach</td>\n      <td>/ˌʌnəˈtæt͡ʃ/</td>\n      <td>http://www.w3.org/ns/lemon/ontolex#LexicalEntry</td>\n    </tr>\n    <tr>\n      <th>173513</th>\n      <td>http://kaiko.getalp.org/dbnary/eng/unctional</td>\n      <td>http://kaiko.getalp.org/dbnary/eng/unctional__...</td>\n      <td>unctional</td>\n      <td>/ˈʌŋkt͡ʃnəl/</td>\n      <td>http://www.w3.org/ns/lemon/ontolex#LexicalEntry</td>\n    </tr>\n    <tr>\n      <th>173514</th>\n      <td>http://kaiko.getalp.org/dbnary/eng/unctional</td>\n      <td>http://kaiko.getalp.org/dbnary/eng/unctional__...</td>\n      <td>unctional</td>\n      <td>/ˈʌŋkt͡ʃənəl/</td>\n      <td>http://www.w3.org/ns/lemon/ontolex#LexicalEntry</td>\n    </tr>\n    <tr>\n      <th>173515</th>\n      <td>http://kaiko.getalp.org/dbnary/eng/updateability</td>\n      <td>http://kaiko.getalp.org/dbnary/eng/updateabili...</td>\n      <td>updateability</td>\n      <td>/ˈʌp.deɪtəˈbɪlɪti/</td>\n      <td>http://www.w3.org/ns/lemon/ontolex#LexicalEntry</td>\n    </tr>\n    <tr>\n      <th>173516</th>\n      <td>http://kaiko.getalp.org/dbnary/eng/westaboo</td>\n      <td>http://kaiko.getalp.org/dbnary/eng/westaboo__N...</td>\n      <td>westaboo</td>\n      <td>/ˈwɛstəbuː/</td>\n      <td>http://www.w3.org/ns/lemon/ontolex#LexicalEntry</td>\n    </tr>\n  </tbody>\n</table>\n<p>173517 rows × 5 columns</p>\n</div>"
     },
     "execution_count": 49,
     "metadata": {},
     "output_type": "execute_result"
    }
   ]
  },
  {
   "cell_type": "code",
   "execution_count": 166,
   "outputs": [
    {
     "data": {
      "text/plain": "p           75082\ne          107327\nt           75086\npr         111934\nmweOrLE         1\ndtype: int64"
     },
     "execution_count": 166,
     "metadata": {},
     "output_type": "execute_result"
    }
   ],
   "source": [
    "entries_with_pron.nunique()"
   ],
   "metadata": {
    "collapsed": false
   }
  },
  {
   "cell_type": "code",
   "source": [
    "mwe_with_pron"
   ],
   "metadata": {
    "colab": {
     "base_uri": "https://localhost:8080/",
     "height": 424
    },
    "id": "QcS1U3OhK-f4",
    "executionInfo": {
     "status": "ok",
     "timestamp": 1679603530899,
     "user_tz": -60,
     "elapsed": 802,
     "user": {
      "displayName": "Gilles Sérasset",
      "userId": "05343768195121565020"
     }
    },
    "outputId": "a5ef296e-84b8-48d2-a64e-4d297f4c2f6b"
   },
   "execution_count": 48,
   "outputs": [
    {
     "data": {
      "text/plain": "                                                      p  \\\n0     http://kaiko.getalp.org/dbnary/eng/absentee_ow...   \n1     http://kaiko.getalp.org/dbnary/eng/absolutely_...   \n2     http://kaiko.getalp.org/dbnary/eng/absolutely_...   \n3       http://kaiko.getalp.org/dbnary/eng/cold_abscess   \n4       http://kaiko.getalp.org/dbnary/eng/cold_abscess   \n...                                                 ...   \n8138       http://kaiko.getalp.org/dbnary/eng/raræ_aves   \n8139       http://kaiko.getalp.org/dbnary/eng/raræ_aves   \n8140       http://kaiko.getalp.org/dbnary/eng/raræ_aves   \n8141       http://kaiko.getalp.org/dbnary/eng/whame_fly   \n8142       http://kaiko.getalp.org/dbnary/eng/whame_fly   \n\n                                                      e  \\\n0     http://kaiko.getalp.org/dbnary/eng/absentee_ow...   \n1     http://kaiko.getalp.org/dbnary/eng/absolutely_...   \n2     http://kaiko.getalp.org/dbnary/eng/absolutely_...   \n3     http://kaiko.getalp.org/dbnary/eng/cold_absces...   \n4     http://kaiko.getalp.org/dbnary/eng/cold_absces...   \n...                                                 ...   \n8138  http://kaiko.getalp.org/dbnary/eng/raræ_aves__...   \n8139  http://kaiko.getalp.org/dbnary/eng/raræ_aves__...   \n8140  http://kaiko.getalp.org/dbnary/eng/raræ_aves__...   \n8141  http://kaiko.getalp.org/dbnary/eng/whame_fly__...   \n8142  http://kaiko.getalp.org/dbnary/eng/whame_fly__...   \n\n                          t                             pr  \\\n0        absentee ownership        /ˌæb.sn̩ˈti ˈoʊ.nɚˌʃɪp/   \n1     absolutely convergent  /ˈæb.səˌlut.li kənˈvɚ.d͡ʒn̩t/   \n2     absolutely convergent  /ˌæb.səˈlut.li kənˈvɚ.d͡ʒn̩t/   \n3              cold abscess                /koʊld ˈæbˌsɛs/   \n4              cold abscess                /koʊld ˈæbˌsɪs/   \n...                     ...                            ...   \n8138              raræ aves              /ˌɹɑːɹiː ˈeɪviːs/   \n8139              raræ aves                     /ˌɹɛːɹaɪ-/   \n8140              raræ aves                     /ˌɹɛːɹiː-/   \n8141              whame fly                  /ˈweɪm ˌflaɪ/   \n8142              whame fly                  /ˈʍeɪm ˌflaɪ/   \n\n                                                mweOrLE  \n0     http://www.w3.org/ns/lemon/ontolex#MultiWordEx...  \n1     http://www.w3.org/ns/lemon/ontolex#MultiWordEx...  \n2     http://www.w3.org/ns/lemon/ontolex#MultiWordEx...  \n3     http://www.w3.org/ns/lemon/ontolex#MultiWordEx...  \n4     http://www.w3.org/ns/lemon/ontolex#MultiWordEx...  \n...                                                 ...  \n8138  http://www.w3.org/ns/lemon/ontolex#MultiWordEx...  \n8139  http://www.w3.org/ns/lemon/ontolex#MultiWordEx...  \n8140  http://www.w3.org/ns/lemon/ontolex#MultiWordEx...  \n8141  http://www.w3.org/ns/lemon/ontolex#MultiWordEx...  \n8142  http://www.w3.org/ns/lemon/ontolex#MultiWordEx...  \n\n[8143 rows x 5 columns]",
      "text/html": "<div>\n<style scoped>\n    .dataframe tbody tr th:only-of-type {\n        vertical-align: middle;\n    }\n\n    .dataframe tbody tr th {\n        vertical-align: top;\n    }\n\n    .dataframe thead th {\n        text-align: right;\n    }\n</style>\n<table border=\"1\" class=\"dataframe\">\n  <thead>\n    <tr style=\"text-align: right;\">\n      <th></th>\n      <th>p</th>\n      <th>e</th>\n      <th>t</th>\n      <th>pr</th>\n      <th>mweOrLE</th>\n    </tr>\n  </thead>\n  <tbody>\n    <tr>\n      <th>0</th>\n      <td>http://kaiko.getalp.org/dbnary/eng/absentee_ow...</td>\n      <td>http://kaiko.getalp.org/dbnary/eng/absentee_ow...</td>\n      <td>absentee ownership</td>\n      <td>/ˌæb.sn̩ˈti ˈoʊ.nɚˌʃɪp/</td>\n      <td>http://www.w3.org/ns/lemon/ontolex#MultiWordEx...</td>\n    </tr>\n    <tr>\n      <th>1</th>\n      <td>http://kaiko.getalp.org/dbnary/eng/absolutely_...</td>\n      <td>http://kaiko.getalp.org/dbnary/eng/absolutely_...</td>\n      <td>absolutely convergent</td>\n      <td>/ˈæb.səˌlut.li kənˈvɚ.d͡ʒn̩t/</td>\n      <td>http://www.w3.org/ns/lemon/ontolex#MultiWordEx...</td>\n    </tr>\n    <tr>\n      <th>2</th>\n      <td>http://kaiko.getalp.org/dbnary/eng/absolutely_...</td>\n      <td>http://kaiko.getalp.org/dbnary/eng/absolutely_...</td>\n      <td>absolutely convergent</td>\n      <td>/ˌæb.səˈlut.li kənˈvɚ.d͡ʒn̩t/</td>\n      <td>http://www.w3.org/ns/lemon/ontolex#MultiWordEx...</td>\n    </tr>\n    <tr>\n      <th>3</th>\n      <td>http://kaiko.getalp.org/dbnary/eng/cold_abscess</td>\n      <td>http://kaiko.getalp.org/dbnary/eng/cold_absces...</td>\n      <td>cold abscess</td>\n      <td>/koʊld ˈæbˌsɛs/</td>\n      <td>http://www.w3.org/ns/lemon/ontolex#MultiWordEx...</td>\n    </tr>\n    <tr>\n      <th>4</th>\n      <td>http://kaiko.getalp.org/dbnary/eng/cold_abscess</td>\n      <td>http://kaiko.getalp.org/dbnary/eng/cold_absces...</td>\n      <td>cold abscess</td>\n      <td>/koʊld ˈæbˌsɪs/</td>\n      <td>http://www.w3.org/ns/lemon/ontolex#MultiWordEx...</td>\n    </tr>\n    <tr>\n      <th>...</th>\n      <td>...</td>\n      <td>...</td>\n      <td>...</td>\n      <td>...</td>\n      <td>...</td>\n    </tr>\n    <tr>\n      <th>8138</th>\n      <td>http://kaiko.getalp.org/dbnary/eng/raræ_aves</td>\n      <td>http://kaiko.getalp.org/dbnary/eng/raræ_aves__...</td>\n      <td>raræ aves</td>\n      <td>/ˌɹɑːɹiː ˈeɪviːs/</td>\n      <td>http://www.w3.org/ns/lemon/ontolex#MultiWordEx...</td>\n    </tr>\n    <tr>\n      <th>8139</th>\n      <td>http://kaiko.getalp.org/dbnary/eng/raræ_aves</td>\n      <td>http://kaiko.getalp.org/dbnary/eng/raræ_aves__...</td>\n      <td>raræ aves</td>\n      <td>/ˌɹɛːɹaɪ-/</td>\n      <td>http://www.w3.org/ns/lemon/ontolex#MultiWordEx...</td>\n    </tr>\n    <tr>\n      <th>8140</th>\n      <td>http://kaiko.getalp.org/dbnary/eng/raræ_aves</td>\n      <td>http://kaiko.getalp.org/dbnary/eng/raræ_aves__...</td>\n      <td>raræ aves</td>\n      <td>/ˌɹɛːɹiː-/</td>\n      <td>http://www.w3.org/ns/lemon/ontolex#MultiWordEx...</td>\n    </tr>\n    <tr>\n      <th>8141</th>\n      <td>http://kaiko.getalp.org/dbnary/eng/whame_fly</td>\n      <td>http://kaiko.getalp.org/dbnary/eng/whame_fly__...</td>\n      <td>whame fly</td>\n      <td>/ˈweɪm ˌflaɪ/</td>\n      <td>http://www.w3.org/ns/lemon/ontolex#MultiWordEx...</td>\n    </tr>\n    <tr>\n      <th>8142</th>\n      <td>http://kaiko.getalp.org/dbnary/eng/whame_fly</td>\n      <td>http://kaiko.getalp.org/dbnary/eng/whame_fly__...</td>\n      <td>whame fly</td>\n      <td>/ˈʍeɪm ˌflaɪ/</td>\n      <td>http://www.w3.org/ns/lemon/ontolex#MultiWordEx...</td>\n    </tr>\n  </tbody>\n</table>\n<p>8143 rows × 5 columns</p>\n</div>"
     },
     "execution_count": 48,
     "metadata": {},
     "output_type": "execute_result"
    }
   ]
  },
  {
   "cell_type": "code",
   "execution_count": 136,
   "outputs": [
    {
     "data": {
      "text/plain": "4656"
     },
     "execution_count": 136,
     "metadata": {},
     "output_type": "execute_result"
    }
   ],
   "source": [
    "mwe_with_pron['p'].nunique()"
   ],
   "metadata": {
    "collapsed": false
   }
  },
  {
   "cell_type": "code",
   "execution_count": 137,
   "outputs": [
    {
     "data": {
      "text/plain": "210845"
     },
     "execution_count": 137,
     "metadata": {},
     "output_type": "execute_result"
    }
   ],
   "source": [
    "mwe_without_pron['p'].nunique()"
   ],
   "metadata": {
    "collapsed": false
   }
  },
  {
   "cell_type": "markdown",
   "source": [
    "##### Merging the different pronunciations for each entry\n",
    "\n",
    "When an MWT *entry* has several pronunciations, it will have several lines in the mwe_with_pron dataframe (one per pronunication). Hence, in order to prepare the processing, we need to merge such lines and produce a list of pronunciations for each entry, so that the evaluation will compare the list of *known* pronunciations with the list of *proposed* pronunciations."
   ],
   "metadata": {
    "collapsed": false
   }
  },
  {
   "cell_type": "code",
   "execution_count": 12,
   "outputs": [],
   "source": [
    "aggregated_mwe_with_pron = mwe_with_pron.groupby('e').aggregate(\n",
    "    {\n",
    "        \"p\": lambda tdf: tdf.iloc[0],\n",
    "        \"t\": lambda tdf: tdf.iloc[0],\n",
    "        'pr': lambda tdf: ','.join(sorted(tdf.unique().tolist()))\n",
    "     }\n",
    "    )"
   ],
   "metadata": {
    "collapsed": false
   }
  },
  {
   "cell_type": "code",
   "execution_count": 13,
   "outputs": [
    {
     "data": {
      "text/plain": "p     4977\nt     4977\npr    4977\ndtype: int64"
     },
     "execution_count": 13,
     "metadata": {},
     "output_type": "execute_result"
    }
   ],
   "source": [
    "aggregated_mwe_with_pron.count()"
   ],
   "metadata": {
    "collapsed": false
   }
  },
  {
   "cell_type": "code",
   "execution_count": 14,
   "outputs": [],
   "source": [
    "# mwe_without_pron"
   ],
   "metadata": {
    "collapsed": false
   }
  },
  {
   "cell_type": "code",
   "execution_count": 15,
   "outputs": [
    {
     "data": {
      "text/plain": "210845"
     },
     "execution_count": 15,
     "metadata": {},
     "output_type": "execute_result"
    }
   ],
   "source": [
    "mwe_without_pron['p'].nunique()"
   ],
   "metadata": {
    "collapsed": false
   }
  },
  {
   "cell_type": "markdown",
   "source": [
    "Now, we have all entries with their pronunciation and all mwe (with and without) pronunciation.\n",
    "\n",
    "Next, we should try to decide if a page is a heteronym (i.e.: has different entries with different pronunciation).\n",
    "\n",
    "Then, try to create a pronunciation for MWE (by decomposing and constructing the pronunciation), and warn if an entry part is an heteronym.\n",
    "\n",
    "Evaluate also."
   ],
   "metadata": {
    "id": "-aQXuia5N-sz"
   }
  },
  {
   "cell_type": "markdown",
   "source": [
    "### Playing with heteronymy"
   ],
   "metadata": {
    "collapsed": false
   }
  },
  {
   "cell_type": "code",
   "execution_count": 16,
   "outputs": [
    {
     "name": "stdout",
     "output_type": "stream",
     "text": [
      " --> Retrieved 5 rows\n"
     ]
    },
    {
     "data": {
      "text/plain": "                                                   e   prons\n0   http://kaiko.getalp.org/dbnary/eng/bass__Noun__3   /bæs/\n1   http://kaiko.getalp.org/dbnary/eng/bass__Noun__2   /bæs/\n2   http://kaiko.getalp.org/dbnary/eng/bass__Noun__1  /beɪs/\n3   http://kaiko.getalp.org/dbnary/eng/bass__Verb__1  /beɪs/\n4  http://kaiko.getalp.org/dbnary/eng/bass__Adjec...  /beɪs/",
      "text/html": "<div>\n<style scoped>\n    .dataframe tbody tr th:only-of-type {\n        vertical-align: middle;\n    }\n\n    .dataframe tbody tr th {\n        vertical-align: top;\n    }\n\n    .dataframe thead th {\n        text-align: right;\n    }\n</style>\n<table border=\"1\" class=\"dataframe\">\n  <thead>\n    <tr style=\"text-align: right;\">\n      <th></th>\n      <th>e</th>\n      <th>prons</th>\n    </tr>\n  </thead>\n  <tbody>\n    <tr>\n      <th>0</th>\n      <td>http://kaiko.getalp.org/dbnary/eng/bass__Noun__3</td>\n      <td>/bæs/</td>\n    </tr>\n    <tr>\n      <th>1</th>\n      <td>http://kaiko.getalp.org/dbnary/eng/bass__Noun__2</td>\n      <td>/bæs/</td>\n    </tr>\n    <tr>\n      <th>2</th>\n      <td>http://kaiko.getalp.org/dbnary/eng/bass__Noun__1</td>\n      <td>/beɪs/</td>\n    </tr>\n    <tr>\n      <th>3</th>\n      <td>http://kaiko.getalp.org/dbnary/eng/bass__Verb__1</td>\n      <td>/beɪs/</td>\n    </tr>\n    <tr>\n      <th>4</th>\n      <td>http://kaiko.getalp.org/dbnary/eng/bass__Adjec...</td>\n      <td>/beɪs/</td>\n    </tr>\n  </tbody>\n</table>\n</div>"
     },
     "execution_count": 16,
     "metadata": {},
     "output_type": "execute_result"
    }
   ],
   "source": [
    "q_heteronyms_template = \"\"\"\n",
    "PREFIX rdf: <http://www.w3.org/1999/02/22-rdf-syntax-ns#>\n",
    "PREFIX rdfs: <http://www.w3.org/2000/01/rdf-schema#>\n",
    "PREFIX xsd: <http://www.w3.org/2001/XMLSchema#>\n",
    "PREFIX ontolex: <http://www.w3.org/ns/lemon/ontolex#>\n",
    "PREFIX dbnary: <http://kaiko.getalp.org/dbnary#>\n",
    "PREFIX dbnary-eng: <http://kaiko.getalp.org/dbnary/eng/>\n",
    "\n",
    "SELECT ?e ?prons\n",
    "FROM <http://kaiko.getalp.org/dbnary/eng>\n",
    "WHERE {\n",
    "    %%PAGE%% dbnary:describes ?e.\n",
    "    {\n",
    "        SELECT ?e (GROUP_CONCAT(?pr ; SEPARATOR=\",\") as ?prons) {\n",
    "            SELECT ?pr ?e {\n",
    "                ?e ontolex:canonicalForm / ontolex:phoneticRep ?pr .\n",
    "            }\n",
    "            GROUP BY ?e ?pr\n",
    "            ORDER BY ?pr\n",
    "        } GROUP BY ?e\n",
    "    }\n",
    "}\n",
    "\"\"\"\n",
    "\n",
    "def get_page_uri(label: str) -> str:\n",
    "    return '<http://kaiko.getalp.org/dbnary/eng/' + label.replace('/', '!slash!') + '>'\n",
    "\n",
    "def get_entries_and_pronunciations_from_dbnary(page: str) -> pd.DataFrame:\n",
    "    query = q_heteronyms_template.replace('%%PAGE%%', get_page_uri(page))\n",
    "    df = dbnary.query_all(query)\n",
    "    return df\n",
    "\n",
    "get_entries_and_pronunciations_from_dbnary('bass')"
   ],
   "metadata": {
    "collapsed": false
   }
  },
  {
   "cell_type": "code",
   "execution_count": 17,
   "outputs": [],
   "source": [
    "def get_entries_and_pronunciations(page: str) -> pd.DataFrame:\n",
    "    return entries_with_pron[entries_with_pron.t == page][['e', 'pr']].groupby('e').aggregate(lambda tdf: ','.join(sorted(tdf.unique().tolist()))).rename(\n",
    "        columns={\"pr\": \"prons\"}\n",
    "    )"
   ],
   "metadata": {
    "collapsed": false
   }
  },
  {
   "cell_type": "code",
   "execution_count": 18,
   "outputs": [
    {
     "name": "stdout",
     "output_type": "stream",
     "text": [
      " --> Retrieved 7 rows\n"
     ]
    },
    {
     "data": {
      "text/plain": "                                                  e           prons\n0  http://kaiko.getalp.org/dbnary/eng/bank__Verb__1  /bæŋk/,[beɪŋk]\n1  http://kaiko.getalp.org/dbnary/eng/bank__Noun__2  /bæŋk/,[beɪŋk]\n2  http://kaiko.getalp.org/dbnary/eng/bank__Noun__4  /bæŋk/,[beɪŋk]\n3  http://kaiko.getalp.org/dbnary/eng/bank__Noun__1  /bæŋk/,[beɪŋk]\n4  http://kaiko.getalp.org/dbnary/eng/bank__Noun__3  /bæŋk/,[beɪŋk]\n5  http://kaiko.getalp.org/dbnary/eng/bank__Verb__2  /bæŋk/,[beɪŋk]\n6  http://kaiko.getalp.org/dbnary/eng/bank__Verb__3  /bæŋk/,[beɪŋk]",
      "text/html": "<div>\n<style scoped>\n    .dataframe tbody tr th:only-of-type {\n        vertical-align: middle;\n    }\n\n    .dataframe tbody tr th {\n        vertical-align: top;\n    }\n\n    .dataframe thead th {\n        text-align: right;\n    }\n</style>\n<table border=\"1\" class=\"dataframe\">\n  <thead>\n    <tr style=\"text-align: right;\">\n      <th></th>\n      <th>e</th>\n      <th>prons</th>\n    </tr>\n  </thead>\n  <tbody>\n    <tr>\n      <th>0</th>\n      <td>http://kaiko.getalp.org/dbnary/eng/bank__Verb__1</td>\n      <td>/bæŋk/,[beɪŋk]</td>\n    </tr>\n    <tr>\n      <th>1</th>\n      <td>http://kaiko.getalp.org/dbnary/eng/bank__Noun__2</td>\n      <td>/bæŋk/,[beɪŋk]</td>\n    </tr>\n    <tr>\n      <th>2</th>\n      <td>http://kaiko.getalp.org/dbnary/eng/bank__Noun__4</td>\n      <td>/bæŋk/,[beɪŋk]</td>\n    </tr>\n    <tr>\n      <th>3</th>\n      <td>http://kaiko.getalp.org/dbnary/eng/bank__Noun__1</td>\n      <td>/bæŋk/,[beɪŋk]</td>\n    </tr>\n    <tr>\n      <th>4</th>\n      <td>http://kaiko.getalp.org/dbnary/eng/bank__Noun__3</td>\n      <td>/bæŋk/,[beɪŋk]</td>\n    </tr>\n    <tr>\n      <th>5</th>\n      <td>http://kaiko.getalp.org/dbnary/eng/bank__Verb__2</td>\n      <td>/bæŋk/,[beɪŋk]</td>\n    </tr>\n    <tr>\n      <th>6</th>\n      <td>http://kaiko.getalp.org/dbnary/eng/bank__Verb__3</td>\n      <td>/bæŋk/,[beɪŋk]</td>\n    </tr>\n  </tbody>\n</table>\n</div>"
     },
     "execution_count": 18,
     "metadata": {},
     "output_type": "execute_result"
    }
   ],
   "source": [
    "get_entries_and_pronunciations_from_dbnary('bank')"
   ],
   "metadata": {
    "collapsed": false
   }
  },
  {
   "cell_type": "code",
   "execution_count": 19,
   "outputs": [
    {
     "data": {
      "text/plain": "                                                           prons\ne                                                               \nhttp://kaiko.getalp.org/dbnary/eng/bank__Noun__1  /bæŋk/,[beɪŋk]\nhttp://kaiko.getalp.org/dbnary/eng/bank__Noun__2  /bæŋk/,[beɪŋk]\nhttp://kaiko.getalp.org/dbnary/eng/bank__Noun__3  /bæŋk/,[beɪŋk]\nhttp://kaiko.getalp.org/dbnary/eng/bank__Noun__4  /bæŋk/,[beɪŋk]\nhttp://kaiko.getalp.org/dbnary/eng/bank__Verb__1  /bæŋk/,[beɪŋk]\nhttp://kaiko.getalp.org/dbnary/eng/bank__Verb__2  /bæŋk/,[beɪŋk]\nhttp://kaiko.getalp.org/dbnary/eng/bank__Verb__3  /bæŋk/,[beɪŋk]",
      "text/html": "<div>\n<style scoped>\n    .dataframe tbody tr th:only-of-type {\n        vertical-align: middle;\n    }\n\n    .dataframe tbody tr th {\n        vertical-align: top;\n    }\n\n    .dataframe thead th {\n        text-align: right;\n    }\n</style>\n<table border=\"1\" class=\"dataframe\">\n  <thead>\n    <tr style=\"text-align: right;\">\n      <th></th>\n      <th>prons</th>\n    </tr>\n    <tr>\n      <th>e</th>\n      <th></th>\n    </tr>\n  </thead>\n  <tbody>\n    <tr>\n      <th>http://kaiko.getalp.org/dbnary/eng/bank__Noun__1</th>\n      <td>/bæŋk/,[beɪŋk]</td>\n    </tr>\n    <tr>\n      <th>http://kaiko.getalp.org/dbnary/eng/bank__Noun__2</th>\n      <td>/bæŋk/,[beɪŋk]</td>\n    </tr>\n    <tr>\n      <th>http://kaiko.getalp.org/dbnary/eng/bank__Noun__3</th>\n      <td>/bæŋk/,[beɪŋk]</td>\n    </tr>\n    <tr>\n      <th>http://kaiko.getalp.org/dbnary/eng/bank__Noun__4</th>\n      <td>/bæŋk/,[beɪŋk]</td>\n    </tr>\n    <tr>\n      <th>http://kaiko.getalp.org/dbnary/eng/bank__Verb__1</th>\n      <td>/bæŋk/,[beɪŋk]</td>\n    </tr>\n    <tr>\n      <th>http://kaiko.getalp.org/dbnary/eng/bank__Verb__2</th>\n      <td>/bæŋk/,[beɪŋk]</td>\n    </tr>\n    <tr>\n      <th>http://kaiko.getalp.org/dbnary/eng/bank__Verb__3</th>\n      <td>/bæŋk/,[beɪŋk]</td>\n    </tr>\n  </tbody>\n</table>\n</div>"
     },
     "execution_count": 19,
     "metadata": {},
     "output_type": "execute_result"
    }
   ],
   "source": [
    "get_entries_and_pronunciations('bank')"
   ],
   "metadata": {
    "collapsed": false
   }
  },
  {
   "cell_type": "code",
   "execution_count": 20,
   "outputs": [
    {
     "name": "stdout",
     "output_type": "stream",
     "text": [
      " --> Retrieved 1 rows\n"
     ]
    },
    {
     "data": {
      "text/plain": "                                                   e          prons\n0  http://kaiko.getalp.org/dbnary/eng/s!slash!he_...  /hi ɔː(ɹ) ʃi/",
      "text/html": "<div>\n<style scoped>\n    .dataframe tbody tr th:only-of-type {\n        vertical-align: middle;\n    }\n\n    .dataframe tbody tr th {\n        vertical-align: top;\n    }\n\n    .dataframe thead th {\n        text-align: right;\n    }\n</style>\n<table border=\"1\" class=\"dataframe\">\n  <thead>\n    <tr style=\"text-align: right;\">\n      <th></th>\n      <th>e</th>\n      <th>prons</th>\n    </tr>\n  </thead>\n  <tbody>\n    <tr>\n      <th>0</th>\n      <td>http://kaiko.getalp.org/dbnary/eng/s!slash!he_...</td>\n      <td>/hi ɔː(ɹ) ʃi/</td>\n    </tr>\n  </tbody>\n</table>\n</div>"
     },
     "execution_count": 20,
     "metadata": {},
     "output_type": "execute_result"
    }
   ],
   "source": [
    "get_entries_and_pronunciations_from_dbnary('s/he')"
   ],
   "metadata": {
    "collapsed": false
   }
  },
  {
   "cell_type": "code",
   "execution_count": 21,
   "outputs": [
    {
     "data": {
      "text/plain": "                                                            prons\ne                                                                \nhttp://kaiko.getalp.org/dbnary/eng/s!slash!he__...  /hi ɔː(ɹ) ʃi/",
      "text/html": "<div>\n<style scoped>\n    .dataframe tbody tr th:only-of-type {\n        vertical-align: middle;\n    }\n\n    .dataframe tbody tr th {\n        vertical-align: top;\n    }\n\n    .dataframe thead th {\n        text-align: right;\n    }\n</style>\n<table border=\"1\" class=\"dataframe\">\n  <thead>\n    <tr style=\"text-align: right;\">\n      <th></th>\n      <th>prons</th>\n    </tr>\n    <tr>\n      <th>e</th>\n      <th></th>\n    </tr>\n  </thead>\n  <tbody>\n    <tr>\n      <th>http://kaiko.getalp.org/dbnary/eng/s!slash!he__Pronoun__1</th>\n      <td>/hi ɔː(ɹ) ʃi/</td>\n    </tr>\n  </tbody>\n</table>\n</div>"
     },
     "execution_count": 21,
     "metadata": {},
     "output_type": "execute_result"
    }
   ],
   "source": [
    "get_entries_and_pronunciations('s/he')"
   ],
   "metadata": {
    "collapsed": false
   }
  },
  {
   "cell_type": "code",
   "execution_count": 160,
   "outputs": [
    {
     "data": {
      "text/plain": "                                                           prons\ne                                                               \nhttp://kaiko.getalp.org/dbnary/eng/lead__Adject...  /lid/,/liːd/\nhttp://kaiko.getalp.org/dbnary/eng/lead__Noun__1           /lɛd/\nhttp://kaiko.getalp.org/dbnary/eng/lead__Noun__2    /lid/,/liːd/\nhttp://kaiko.getalp.org/dbnary/eng/lead__Verb__1           /lɛd/\nhttp://kaiko.getalp.org/dbnary/eng/lead__Verb__2    /lid/,/liːd/\nhttp://kaiko.getalp.org/dbnary/eng/lead__Verb__3    /lid/,/liːd/",
      "text/html": "<div>\n<style scoped>\n    .dataframe tbody tr th:only-of-type {\n        vertical-align: middle;\n    }\n\n    .dataframe tbody tr th {\n        vertical-align: top;\n    }\n\n    .dataframe thead th {\n        text-align: right;\n    }\n</style>\n<table border=\"1\" class=\"dataframe\">\n  <thead>\n    <tr style=\"text-align: right;\">\n      <th></th>\n      <th>prons</th>\n    </tr>\n    <tr>\n      <th>e</th>\n      <th></th>\n    </tr>\n  </thead>\n  <tbody>\n    <tr>\n      <th>http://kaiko.getalp.org/dbnary/eng/lead__Adjective__1</th>\n      <td>/lid/,/liːd/</td>\n    </tr>\n    <tr>\n      <th>http://kaiko.getalp.org/dbnary/eng/lead__Noun__1</th>\n      <td>/lɛd/</td>\n    </tr>\n    <tr>\n      <th>http://kaiko.getalp.org/dbnary/eng/lead__Noun__2</th>\n      <td>/lid/,/liːd/</td>\n    </tr>\n    <tr>\n      <th>http://kaiko.getalp.org/dbnary/eng/lead__Verb__1</th>\n      <td>/lɛd/</td>\n    </tr>\n    <tr>\n      <th>http://kaiko.getalp.org/dbnary/eng/lead__Verb__2</th>\n      <td>/lid/,/liːd/</td>\n    </tr>\n    <tr>\n      <th>http://kaiko.getalp.org/dbnary/eng/lead__Verb__3</th>\n      <td>/lid/,/liːd/</td>\n    </tr>\n  </tbody>\n</table>\n</div>"
     },
     "execution_count": 160,
     "metadata": {},
     "output_type": "execute_result"
    }
   ],
   "source": [
    "get_entries_and_pronunciations('lead')\n"
   ],
   "metadata": {
    "collapsed": false
   }
  },
  {
   "cell_type": "markdown",
   "source": [
    "#### Trying to get all heteronyms in one giant SPARQL query"
   ],
   "metadata": {
    "collapsed": false
   }
  },
  {
   "cell_type": "code",
   "execution_count": 22,
   "outputs": [
    {
     "name": "stdout",
     "output_type": "stream",
     "text": [
      " Hit the server limit, offseting query to 70000 --> Retrieved 76131 rows\n"
     ]
    },
    {
     "data": {
      "text/plain": "                                                      p  \\\n0         http://kaiko.getalp.org/dbnary/eng/prophetess   \n1      http://kaiko.getalp.org/dbnary/eng/old-fashioned   \n2       http://kaiko.getalp.org/dbnary/eng/maltreatment   \n3         http://kaiko.getalp.org/dbnary/eng/irrigation   \n4          http://kaiko.getalp.org/dbnary/eng/symposium   \n...                                                 ...   \n76126    http://kaiko.getalp.org/dbnary/eng/umbra_recta   \n76127     http://kaiko.getalp.org/dbnary/eng/peacemaker   \n76128   http://kaiko.getalp.org/dbnary/eng/sift_through   \n76129      http://kaiko.getalp.org/dbnary/eng/secretory   \n76130         http://kaiko.getalp.org/dbnary/eng/nowise   \n\n                             prons  \\\n0                      /pɹɒfɪˈtɛs/   \n1      /oʊldˈfæʃənd/,/əʊldˈfæʃənd/   \n2                  /malˈtɹiːtmənt/   \n3                    /ˌɪɹəˈɡeɪʃən/   \n4                 /sɪm.ˈpoʊ.zi.əm/   \n...                            ...   \n76126              /ˈʌmbɹə ˈɹɛktə/   \n76127              /ˈpiːsmeɪkə(ɹ)/   \n76128                 /ˈsɪft θɹuː/   \n76129             /sɪˈkɹiːt(ə)ɹiː/   \n76130        /ˈnoʊwaɪz/,/ˈnəʊwaɪz/   \n\n                                                 entries  \n0      http://kaiko.getalp.org/dbnary/eng/prophetess_...  \n1      http://kaiko.getalp.org/dbnary/eng/old-fashion...  \n2      http://kaiko.getalp.org/dbnary/eng/maltreatmen...  \n3      http://kaiko.getalp.org/dbnary/eng/irrigation_...  \n4      http://kaiko.getalp.org/dbnary/eng/symposium__...  \n...                                                  ...  \n76126  http://kaiko.getalp.org/dbnary/eng/umbra_recta...  \n76127  http://kaiko.getalp.org/dbnary/eng/peacemaker_...  \n76128  http://kaiko.getalp.org/dbnary/eng/sift_throug...  \n76129  http://kaiko.getalp.org/dbnary/eng/secretory__...  \n76130  http://kaiko.getalp.org/dbnary/eng/nowise__Adv...  \n\n[76131 rows x 3 columns]",
      "text/html": "<div>\n<style scoped>\n    .dataframe tbody tr th:only-of-type {\n        vertical-align: middle;\n    }\n\n    .dataframe tbody tr th {\n        vertical-align: top;\n    }\n\n    .dataframe thead th {\n        text-align: right;\n    }\n</style>\n<table border=\"1\" class=\"dataframe\">\n  <thead>\n    <tr style=\"text-align: right;\">\n      <th></th>\n      <th>p</th>\n      <th>prons</th>\n      <th>entries</th>\n    </tr>\n  </thead>\n  <tbody>\n    <tr>\n      <th>0</th>\n      <td>http://kaiko.getalp.org/dbnary/eng/prophetess</td>\n      <td>/pɹɒfɪˈtɛs/</td>\n      <td>http://kaiko.getalp.org/dbnary/eng/prophetess_...</td>\n    </tr>\n    <tr>\n      <th>1</th>\n      <td>http://kaiko.getalp.org/dbnary/eng/old-fashioned</td>\n      <td>/oʊldˈfæʃənd/,/əʊldˈfæʃənd/</td>\n      <td>http://kaiko.getalp.org/dbnary/eng/old-fashion...</td>\n    </tr>\n    <tr>\n      <th>2</th>\n      <td>http://kaiko.getalp.org/dbnary/eng/maltreatment</td>\n      <td>/malˈtɹiːtmənt/</td>\n      <td>http://kaiko.getalp.org/dbnary/eng/maltreatmen...</td>\n    </tr>\n    <tr>\n      <th>3</th>\n      <td>http://kaiko.getalp.org/dbnary/eng/irrigation</td>\n      <td>/ˌɪɹəˈɡeɪʃən/</td>\n      <td>http://kaiko.getalp.org/dbnary/eng/irrigation_...</td>\n    </tr>\n    <tr>\n      <th>4</th>\n      <td>http://kaiko.getalp.org/dbnary/eng/symposium</td>\n      <td>/sɪm.ˈpoʊ.zi.əm/</td>\n      <td>http://kaiko.getalp.org/dbnary/eng/symposium__...</td>\n    </tr>\n    <tr>\n      <th>...</th>\n      <td>...</td>\n      <td>...</td>\n      <td>...</td>\n    </tr>\n    <tr>\n      <th>76126</th>\n      <td>http://kaiko.getalp.org/dbnary/eng/umbra_recta</td>\n      <td>/ˈʌmbɹə ˈɹɛktə/</td>\n      <td>http://kaiko.getalp.org/dbnary/eng/umbra_recta...</td>\n    </tr>\n    <tr>\n      <th>76127</th>\n      <td>http://kaiko.getalp.org/dbnary/eng/peacemaker</td>\n      <td>/ˈpiːsmeɪkə(ɹ)/</td>\n      <td>http://kaiko.getalp.org/dbnary/eng/peacemaker_...</td>\n    </tr>\n    <tr>\n      <th>76128</th>\n      <td>http://kaiko.getalp.org/dbnary/eng/sift_through</td>\n      <td>/ˈsɪft θɹuː/</td>\n      <td>http://kaiko.getalp.org/dbnary/eng/sift_throug...</td>\n    </tr>\n    <tr>\n      <th>76129</th>\n      <td>http://kaiko.getalp.org/dbnary/eng/secretory</td>\n      <td>/sɪˈkɹiːt(ə)ɹiː/</td>\n      <td>http://kaiko.getalp.org/dbnary/eng/secretory__...</td>\n    </tr>\n    <tr>\n      <th>76130</th>\n      <td>http://kaiko.getalp.org/dbnary/eng/nowise</td>\n      <td>/ˈnoʊwaɪz/,/ˈnəʊwaɪz/</td>\n      <td>http://kaiko.getalp.org/dbnary/eng/nowise__Adv...</td>\n    </tr>\n  </tbody>\n</table>\n<p>76131 rows × 3 columns</p>\n</div>"
     },
     "execution_count": 22,
     "metadata": {},
     "output_type": "execute_result"
    }
   ],
   "source": [
    "p_pages_and_prons = \"\"\"PREFIX rdf: <http://www.w3.org/1999/02/22-rdf-syntax-ns#>\n",
    "PREFIX rdfs: <http://www.w3.org/2000/01/rdf-schema#>\n",
    "PREFIX xsd: <http://www.w3.org/2001/XMLSchema#>\n",
    "PREFIX ontolex: <http://www.w3.org/ns/lemon/ontolex#>\n",
    "PREFIX dbnary: <http://kaiko.getalp.org/dbnary#>\n",
    "PREFIX dbnary-eng: <http://kaiko.getalp.org/dbnary/eng/>\n",
    "\n",
    "SELECT ?p ?prons (GROUP_CONCAT(?e ; SEPARATOR = \",\") as ?entries)\n",
    "FROM <http://kaiko.getalp.org/dbnary/eng>\n",
    "WHERE {\n",
    "    ?p a dbnary:Page; dbnary:describes ?e.\n",
    "    {\n",
    "        SELECT ?e (GROUP_CONCAT(?pr ; SEPARATOR=\",\") as ?prons) {\n",
    "            SELECT ?pr ?e {\n",
    "                ?e ontolex:canonicalForm / ontolex:phoneticRep ?pr .\n",
    "            }\n",
    "            GROUP BY ?e ?pr\n",
    "            ORDER BY ?pr\n",
    "        } GROUP BY ?e\n",
    "    }\n",
    "} GROUP BY ?p ?prons\n",
    "\n",
    "\"\"\"\n",
    "\n",
    "pages_and_prons = dbnary.query_all(p_pages_and_prons)\n",
    "pages_and_prons"
   ],
   "metadata": {
    "collapsed": false
   }
  },
  {
   "cell_type": "code",
   "execution_count": 23,
   "outputs": [
    {
     "data": {
      "text/plain": "75082"
     },
     "execution_count": 23,
     "metadata": {},
     "output_type": "execute_result"
    }
   ],
   "source": [
    "pages_and_prons['p'].nunique()"
   ],
   "metadata": {
    "collapsed": false
   }
  },
  {
   "cell_type": "code",
   "execution_count": 24,
   "outputs": [],
   "source": [
    "pages_and_prons['Counts'] = pages_and_prons.groupby(['p'])['prons'].transform('count')\n",
    "heteronyms = pages_and_prons.query('Counts > 1')"
   ],
   "metadata": {
    "collapsed": false
   }
  },
  {
   "cell_type": "code",
   "execution_count": 25,
   "outputs": [
    {
     "data": {
      "text/plain": "970"
     },
     "execution_count": 25,
     "metadata": {},
     "output_type": "execute_result"
    }
   ],
   "source": [
    "heteronyms['p'].nunique()"
   ],
   "metadata": {
    "collapsed": false
   }
  },
  {
   "cell_type": "code",
   "execution_count": 26,
   "outputs": [
    {
     "data": {
      "text/plain": "p           970\nprons      1992\nentries    2019\nCounts        4\ndtype: int64"
     },
     "execution_count": 26,
     "metadata": {},
     "output_type": "execute_result"
    }
   ],
   "source": [
    "heteronyms.nunique()"
   ],
   "metadata": {
    "collapsed": false
   }
  },
  {
   "cell_type": "code",
   "execution_count": 155,
   "outputs": [
    {
     "data": {
      "text/plain": "                                                 p                      prons  \\\n19571  http://kaiko.getalp.org/dbnary/eng/darkling             /ˈdɑː(ɹ)kəlɪŋ/   \n43424   http://kaiko.getalp.org/dbnary/eng/stonish      /ˈstoʊnɪʃ/,/ˈstəʊnɪʃ/   \n64704       http://kaiko.getalp.org/dbnary/eng/ake                   /ɑːˈkeɪ/   \n13266  http://kaiko.getalp.org/dbnary/eng/footling                 /ˈfʊt.lɪŋ/   \n24039   http://kaiko.getalp.org/dbnary/eng/subject  /səbˈd͡ʒɛkt/,/sʌbˈd͡ʒɛkt/   \n68588     http://kaiko.getalp.org/dbnary/eng/tower                /ˈtəʊ.ə(ɹ)/   \n44601      http://kaiko.getalp.org/dbnary/eng/wang                      /wæŋ/   \n66084     http://kaiko.getalp.org/dbnary/eng/mater                   /ˈmeɪtɚ/   \n44837        http://kaiko.getalp.org/dbnary/eng/ay                      /ˈeɪ/   \n43667   http://kaiko.getalp.org/dbnary/eng/concord                 /kənˈkɔɹd/   \n\n                                                 entries  Counts  \n19571  http://kaiko.getalp.org/dbnary/eng/darkling__A...       2  \n43424  http://kaiko.getalp.org/dbnary/eng/stonish__Ad...       2  \n64704  http://kaiko.getalp.org/dbnary/eng/ake__Adverb__1       2  \n13266  http://kaiko.getalp.org/dbnary/eng/footling__N...       2  \n24039  http://kaiko.getalp.org/dbnary/eng/subject__Ve...       2  \n68588  http://kaiko.getalp.org/dbnary/eng/tower__Noun__2       2  \n44601  http://kaiko.getalp.org/dbnary/eng/wang__Noun_...       2  \n66084  http://kaiko.getalp.org/dbnary/eng/mater__Noun__3       2  \n44837  http://kaiko.getalp.org/dbnary/eng/ay__Adverb_...       4  \n43667  http://kaiko.getalp.org/dbnary/eng/concord__Ve...       3  ",
      "text/html": "<div>\n<style scoped>\n    .dataframe tbody tr th:only-of-type {\n        vertical-align: middle;\n    }\n\n    .dataframe tbody tr th {\n        vertical-align: top;\n    }\n\n    .dataframe thead th {\n        text-align: right;\n    }\n</style>\n<table border=\"1\" class=\"dataframe\">\n  <thead>\n    <tr style=\"text-align: right;\">\n      <th></th>\n      <th>p</th>\n      <th>prons</th>\n      <th>entries</th>\n      <th>Counts</th>\n    </tr>\n  </thead>\n  <tbody>\n    <tr>\n      <th>19571</th>\n      <td>http://kaiko.getalp.org/dbnary/eng/darkling</td>\n      <td>/ˈdɑː(ɹ)kəlɪŋ/</td>\n      <td>http://kaiko.getalp.org/dbnary/eng/darkling__A...</td>\n      <td>2</td>\n    </tr>\n    <tr>\n      <th>43424</th>\n      <td>http://kaiko.getalp.org/dbnary/eng/stonish</td>\n      <td>/ˈstoʊnɪʃ/,/ˈstəʊnɪʃ/</td>\n      <td>http://kaiko.getalp.org/dbnary/eng/stonish__Ad...</td>\n      <td>2</td>\n    </tr>\n    <tr>\n      <th>64704</th>\n      <td>http://kaiko.getalp.org/dbnary/eng/ake</td>\n      <td>/ɑːˈkeɪ/</td>\n      <td>http://kaiko.getalp.org/dbnary/eng/ake__Adverb__1</td>\n      <td>2</td>\n    </tr>\n    <tr>\n      <th>13266</th>\n      <td>http://kaiko.getalp.org/dbnary/eng/footling</td>\n      <td>/ˈfʊt.lɪŋ/</td>\n      <td>http://kaiko.getalp.org/dbnary/eng/footling__N...</td>\n      <td>2</td>\n    </tr>\n    <tr>\n      <th>24039</th>\n      <td>http://kaiko.getalp.org/dbnary/eng/subject</td>\n      <td>/səbˈd͡ʒɛkt/,/sʌbˈd͡ʒɛkt/</td>\n      <td>http://kaiko.getalp.org/dbnary/eng/subject__Ve...</td>\n      <td>2</td>\n    </tr>\n    <tr>\n      <th>68588</th>\n      <td>http://kaiko.getalp.org/dbnary/eng/tower</td>\n      <td>/ˈtəʊ.ə(ɹ)/</td>\n      <td>http://kaiko.getalp.org/dbnary/eng/tower__Noun__2</td>\n      <td>2</td>\n    </tr>\n    <tr>\n      <th>44601</th>\n      <td>http://kaiko.getalp.org/dbnary/eng/wang</td>\n      <td>/wæŋ/</td>\n      <td>http://kaiko.getalp.org/dbnary/eng/wang__Noun_...</td>\n      <td>2</td>\n    </tr>\n    <tr>\n      <th>66084</th>\n      <td>http://kaiko.getalp.org/dbnary/eng/mater</td>\n      <td>/ˈmeɪtɚ/</td>\n      <td>http://kaiko.getalp.org/dbnary/eng/mater__Noun__3</td>\n      <td>2</td>\n    </tr>\n    <tr>\n      <th>44837</th>\n      <td>http://kaiko.getalp.org/dbnary/eng/ay</td>\n      <td>/ˈeɪ/</td>\n      <td>http://kaiko.getalp.org/dbnary/eng/ay__Adverb_...</td>\n      <td>4</td>\n    </tr>\n    <tr>\n      <th>43667</th>\n      <td>http://kaiko.getalp.org/dbnary/eng/concord</td>\n      <td>/kənˈkɔɹd/</td>\n      <td>http://kaiko.getalp.org/dbnary/eng/concord__Ve...</td>\n      <td>3</td>\n    </tr>\n  </tbody>\n</table>\n</div>"
     },
     "execution_count": 155,
     "metadata": {},
     "output_type": "execute_result"
    }
   ],
   "source": [
    "heteronyms.sample(10)"
   ],
   "metadata": {
    "collapsed": false
   }
  },
  {
   "cell_type": "code",
   "execution_count": 161,
   "outputs": [
    {
     "data": {
      "text/plain": "                                             p         prons  \\\n23811  http://kaiko.getalp.org/dbnary/eng/lead  /lid/,/liːd/   \n53309  http://kaiko.getalp.org/dbnary/eng/lead         /lɛd/   \n\n                                                 entries  Counts  \n23811  http://kaiko.getalp.org/dbnary/eng/lead__Verb_...       2  \n53309  http://kaiko.getalp.org/dbnary/eng/lead__Verb_...       2  ",
      "text/html": "<div>\n<style scoped>\n    .dataframe tbody tr th:only-of-type {\n        vertical-align: middle;\n    }\n\n    .dataframe tbody tr th {\n        vertical-align: top;\n    }\n\n    .dataframe thead th {\n        text-align: right;\n    }\n</style>\n<table border=\"1\" class=\"dataframe\">\n  <thead>\n    <tr style=\"text-align: right;\">\n      <th></th>\n      <th>p</th>\n      <th>prons</th>\n      <th>entries</th>\n      <th>Counts</th>\n    </tr>\n  </thead>\n  <tbody>\n    <tr>\n      <th>23811</th>\n      <td>http://kaiko.getalp.org/dbnary/eng/lead</td>\n      <td>/lid/,/liːd/</td>\n      <td>http://kaiko.getalp.org/dbnary/eng/lead__Verb_...</td>\n      <td>2</td>\n    </tr>\n    <tr>\n      <th>53309</th>\n      <td>http://kaiko.getalp.org/dbnary/eng/lead</td>\n      <td>/lɛd/</td>\n      <td>http://kaiko.getalp.org/dbnary/eng/lead__Verb_...</td>\n      <td>2</td>\n    </tr>\n  </tbody>\n</table>\n</div>"
     },
     "execution_count": 161,
     "metadata": {},
     "output_type": "execute_result"
    }
   ],
   "source": [
    "heteronyms.query(\"p == 'http://kaiko.getalp.org/dbnary/eng/lead'\")"
   ],
   "metadata": {
    "collapsed": false
   }
  },
  {
   "cell_type": "code",
   "execution_count": 27,
   "outputs": [],
   "source": [
    "heteronyms.to_pickle('../data/heteronyms.pkl')\n",
    "pages_and_prons.to_pickle('../data/pages_and_prons.pkl')"
   ],
   "metadata": {
    "collapsed": false
   }
  },
  {
   "cell_type": "markdown",
   "source": [
    "### Querying derivation data for heteronym resolution"
   ],
   "metadata": {
    "collapsed": false
   }
  },
  {
   "cell_type": "code",
   "execution_count": 76,
   "outputs": [
    {
     "name": "stdout",
     "output_type": "stream",
     "text": [
      " Hit the server limit, offseting query to 230000 --> Retrieved 239284 rows\n"
     ]
    }
   ],
   "source": [
    "q_derivations = \"\"\"\n",
    "PREFIX rdf: <http://www.w3.org/1999/02/22-rdf-syntax-ns#>\n",
    "PREFIX rdfs: <http://www.w3.org/2000/01/rdf-schema#>\n",
    "PREFIX xsd: <http://www.w3.org/2001/XMLSchema#>\n",
    "PREFIX ontolex: <http://www.w3.org/ns/lemon/ontolex#>\n",
    "PREFIX dbnary: <http://kaiko.getalp.org/dbnary#>\n",
    "PREFIX dbnary-eng: <http://kaiko.getalp.org/dbnary/eng/>\n",
    "\n",
    "SELECT DISTINCT ?deriv_from ?source_label ?deriv_to ?target_label\n",
    "FROM <http://kaiko.getalp.org/dbnary/eng>\n",
    "WHERE {\n",
    "    ?deriv_to dbnary:derivedFrom ?deriv_from ; dbnary:describes / rdfs:label ?target_label.\n",
    "    ?deriv_from rdfs:label ?source_label.\n",
    "}\n",
    "\"\"\"\n",
    "\n",
    "derivations = dbnary.query_all(q_derivations)"
   ],
   "metadata": {
    "collapsed": false
   }
  },
  {
   "cell_type": "code",
   "execution_count": 77,
   "outputs": [
    {
     "data": {
      "text/plain": "                                               deriv_from  source_label  \\\n0       http://kaiko.getalp.org/dbnary/eng/above__Prep...         above   \n1       http://kaiko.getalp.org/dbnary/eng/absolution_...    absolution   \n2       http://kaiko.getalp.org/dbnary/eng/Abyssinian_...    Abyssinian   \n3       http://kaiko.getalp.org/dbnary/eng/Abyssinian_...    Abyssinian   \n4       http://kaiko.getalp.org/dbnary/eng/Abyssinian_...    Abyssinian   \n...                                                   ...           ...   \n239279  http://kaiko.getalp.org/dbnary/eng/trip_sitter...   trip sitter   \n239280  http://kaiko.getalp.org/dbnary/eng/turgite__No...       turgite   \n239281  http://kaiko.getalp.org/dbnary/eng/uranocentri...  uranocentric   \n239282  http://kaiko.getalp.org/dbnary/eng/vitapathy__...     vitapathy   \n239283  http://kaiko.getalp.org/dbnary/eng/washhand__A...      washhand   \n\n                                                 deriv_to        target_label  \n0        http://kaiko.getalp.org/dbnary/eng/Above_Derwent       Above Derwent  \n1       http://kaiko.getalp.org/dbnary/eng/Absolution_Day      Absolution Day  \n2       http://kaiko.getalp.org/dbnary/eng/Abyssinian_...   Abyssinian banana  \n3       http://kaiko.getalp.org/dbnary/eng/Abyssinian_cat      Abyssinian cat  \n4       http://kaiko.getalp.org/dbnary/eng/Abyssinian_...     Abyssinian gold  \n...                                                   ...                 ...  \n239279        http://kaiko.getalp.org/dbnary/eng/trip_sit            trip sit  \n239280        http://kaiko.getalp.org/dbnary/eng/turgitic            turgitic  \n239281  http://kaiko.getalp.org/dbnary/eng/uranocentri...  uranocentric orbit  \n239282      http://kaiko.getalp.org/dbnary/eng/vitapathic          vitapathic  \n239283  http://kaiko.getalp.org/dbnary/eng/washhand_table      washhand table  \n\n[239284 rows x 4 columns]",
      "text/html": "<div>\n<style scoped>\n    .dataframe tbody tr th:only-of-type {\n        vertical-align: middle;\n    }\n\n    .dataframe tbody tr th {\n        vertical-align: top;\n    }\n\n    .dataframe thead th {\n        text-align: right;\n    }\n</style>\n<table border=\"1\" class=\"dataframe\">\n  <thead>\n    <tr style=\"text-align: right;\">\n      <th></th>\n      <th>deriv_from</th>\n      <th>source_label</th>\n      <th>deriv_to</th>\n      <th>target_label</th>\n    </tr>\n  </thead>\n  <tbody>\n    <tr>\n      <th>0</th>\n      <td>http://kaiko.getalp.org/dbnary/eng/above__Prep...</td>\n      <td>above</td>\n      <td>http://kaiko.getalp.org/dbnary/eng/Above_Derwent</td>\n      <td>Above Derwent</td>\n    </tr>\n    <tr>\n      <th>1</th>\n      <td>http://kaiko.getalp.org/dbnary/eng/absolution_...</td>\n      <td>absolution</td>\n      <td>http://kaiko.getalp.org/dbnary/eng/Absolution_Day</td>\n      <td>Absolution Day</td>\n    </tr>\n    <tr>\n      <th>2</th>\n      <td>http://kaiko.getalp.org/dbnary/eng/Abyssinian_...</td>\n      <td>Abyssinian</td>\n      <td>http://kaiko.getalp.org/dbnary/eng/Abyssinian_...</td>\n      <td>Abyssinian banana</td>\n    </tr>\n    <tr>\n      <th>3</th>\n      <td>http://kaiko.getalp.org/dbnary/eng/Abyssinian_...</td>\n      <td>Abyssinian</td>\n      <td>http://kaiko.getalp.org/dbnary/eng/Abyssinian_cat</td>\n      <td>Abyssinian cat</td>\n    </tr>\n    <tr>\n      <th>4</th>\n      <td>http://kaiko.getalp.org/dbnary/eng/Abyssinian_...</td>\n      <td>Abyssinian</td>\n      <td>http://kaiko.getalp.org/dbnary/eng/Abyssinian_...</td>\n      <td>Abyssinian gold</td>\n    </tr>\n    <tr>\n      <th>...</th>\n      <td>...</td>\n      <td>...</td>\n      <td>...</td>\n      <td>...</td>\n    </tr>\n    <tr>\n      <th>239279</th>\n      <td>http://kaiko.getalp.org/dbnary/eng/trip_sitter...</td>\n      <td>trip sitter</td>\n      <td>http://kaiko.getalp.org/dbnary/eng/trip_sit</td>\n      <td>trip sit</td>\n    </tr>\n    <tr>\n      <th>239280</th>\n      <td>http://kaiko.getalp.org/dbnary/eng/turgite__No...</td>\n      <td>turgite</td>\n      <td>http://kaiko.getalp.org/dbnary/eng/turgitic</td>\n      <td>turgitic</td>\n    </tr>\n    <tr>\n      <th>239281</th>\n      <td>http://kaiko.getalp.org/dbnary/eng/uranocentri...</td>\n      <td>uranocentric</td>\n      <td>http://kaiko.getalp.org/dbnary/eng/uranocentri...</td>\n      <td>uranocentric orbit</td>\n    </tr>\n    <tr>\n      <th>239282</th>\n      <td>http://kaiko.getalp.org/dbnary/eng/vitapathy__...</td>\n      <td>vitapathy</td>\n      <td>http://kaiko.getalp.org/dbnary/eng/vitapathic</td>\n      <td>vitapathic</td>\n    </tr>\n    <tr>\n      <th>239283</th>\n      <td>http://kaiko.getalp.org/dbnary/eng/washhand__A...</td>\n      <td>washhand</td>\n      <td>http://kaiko.getalp.org/dbnary/eng/washhand_table</td>\n      <td>washhand table</td>\n    </tr>\n  </tbody>\n</table>\n<p>239284 rows × 4 columns</p>\n</div>"
     },
     "execution_count": 77,
     "metadata": {},
     "output_type": "execute_result"
    }
   ],
   "source": [
    "derivations"
   ],
   "metadata": {
    "collapsed": false
   }
  },
  {
   "cell_type": "code",
   "execution_count": 99,
   "outputs": [],
   "source": [
    "def get_pronunciations_for_entry(uri: str) -> pd.DataFrame:\n",
    "    return entries_with_pron[entries_with_pron.e == uri][['e', 'pr']].groupby('e').aggregate(lambda tdf: ','.join(sorted(tdf.unique().tolist()))).rename(\n",
    "        columns={\"pr\": \"prons\"}\n",
    "    )\n",
    "\n",
    "def get_derives_from(page: str, component:str) -> str:\n",
    "    derivations_for_page = derivations[derivations.deriv_to == page]\n",
    "    deriv_from = derivations_for_page[derivations_for_page.source_label == component]['deriv_from']\n",
    "    if len(deriv_from) > 0:\n",
    "        return deriv_from.iloc[0]\n",
    "    return None\n",
    "\n",
    "def get_pronunciations_from_derivation(page: str, component:str) -> pd.DataFrame:\n",
    "    deriv_from = get_derives_from(page, component)\n",
    "    if deriv_from:\n",
    "        return get_pronunciations_for_entry(deriv_from)"
   ],
   "metadata": {
    "collapsed": false
   }
  },
  {
   "cell_type": "code",
   "execution_count": 100,
   "outputs": [
    {
     "data": {
      "text/plain": "                                                   prons\ne                                                       \nhttp://kaiko.getalp.org/dbnary/eng/bass__Noun__1  /beɪs/",
      "text/html": "<div>\n<style scoped>\n    .dataframe tbody tr th:only-of-type {\n        vertical-align: middle;\n    }\n\n    .dataframe tbody tr th {\n        vertical-align: top;\n    }\n\n    .dataframe thead th {\n        text-align: right;\n    }\n</style>\n<table border=\"1\" class=\"dataframe\">\n  <thead>\n    <tr style=\"text-align: right;\">\n      <th></th>\n      <th>prons</th>\n    </tr>\n    <tr>\n      <th>e</th>\n      <th></th>\n    </tr>\n  </thead>\n  <tbody>\n    <tr>\n      <th>http://kaiko.getalp.org/dbnary/eng/bass__Noun__1</th>\n      <td>/beɪs/</td>\n    </tr>\n  </tbody>\n</table>\n</div>"
     },
     "execution_count": 100,
     "metadata": {},
     "output_type": "execute_result"
    }
   ],
   "source": [
    "# get_pronunciations_for_entry('http://kaiko.getalp.org/dbnary/eng/servant__Noun__1')\n",
    "get_pronunciations_from_derivation('http://kaiko.getalp.org/dbnary/eng/bass_guitar', 'bass')"
   ],
   "metadata": {
    "collapsed": false
   }
  },
  {
   "cell_type": "markdown",
   "source": [
    "### Decomposing the terms\n",
    "\n",
    "We will decompose the terms by spaces (we disregard the case of composition of MWTs).\n",
    "\n",
    "Maybe stick to binary MWTs ?\n",
    "\n",
    "Limitation to be expressed in the paper: we do not have the regional information on pronunciations and this would be handy to avoid composing a US pronunciation with an Australian one. In next version of DBnary, we may try to extract the pronunciation and keep the region information along with it.\n"
   ],
   "metadata": {
    "collapsed": false
   }
  },
  {
   "cell_type": "code",
   "execution_count": 116,
   "outputs": [
    {
     "data": {
      "text/plain": "(['/beɪs ɡiˈtɑɹ/',\n  '/beɪs ɡəˈtɑɹ/',\n  '/beɪs ɡɪˈtɑɹ/',\n  '/beɪs ɡɪˈtɑː(ɹ)/',\n  '/beɪs ˈɡɪ.tɑɹ/'],\n 'Heteronymy')"
     },
     "execution_count": 116,
     "metadata": {},
     "output_type": "execute_result"
    }
   ],
   "source": [
    "import itertools\n",
    "\n",
    "def cleanup_pronunciation(pron: str):\n",
    "    if pron.startswith('/') and pron.endswith('/'):\n",
    "        return pron[1:-1]\n",
    "    else:\n",
    "        return None\n",
    "\n",
    "def combine(l: List[List[str]]) -> List[str]:\n",
    "    combined = []\n",
    "    for p in itertools.product(*l):\n",
    "        combined.append('/' + ' '.join(p) + '/')\n",
    "    return combined\n",
    "\n",
    "## TODO: build pronunciation from dataframe instead of query to kaiko\n",
    "def build_pronunciations(term: str, page: str) -> Tuple[List[str], str]:\n",
    "    components = term.split(sep=' ')\n",
    "    method = \"Combination\"\n",
    "    pronunciations = []\n",
    "    for component in components:\n",
    "        prons: List[str] = []\n",
    "        entries_and_pronunciations = get_entries_and_pronunciations(component)\n",
    "        if entries_and_pronunciations['prons'].nunique() == 0:\n",
    "            # print(f'WARN: component {component} has no pronunciation', end='\\n')\n",
    "            return [], 'Missing Pronunciation for a Component'\n",
    "\n",
    "        if entries_and_pronunciations['prons'].nunique() > 1:\n",
    "            # print(f'WARN: Component {component} is an heteronym', end='\\n')\n",
    "            # Check if the current MWT is known to derive from one of this components entry\n",
    "            derivation_pronunciations = get_pronunciations_from_derivation(page, component)\n",
    "            method = \"Heteronymy\"\n",
    "            if derivation_pronunciations is not None and len(derivation_pronunciations) > 0:\n",
    "                prons = str.split(derivation_pronunciations['prons'][0], sep=',')\n",
    "            else:\n",
    "                # What should I do if no derivation pronunciation are available when I have heteronymy ?\n",
    "                return [], \"No Derivation for Heteronymy\"\n",
    "        else:\n",
    "            prons = str.split(entries_and_pronunciations['prons'][0], sep=',')\n",
    "        prons = [cleanup_pronunciation(pron) for pron in prons]\n",
    "        prons = [pron for pron in prons if pron]\n",
    "        pronunciations.append(prons)\n",
    "    return combine(pronunciations), method\n",
    "\n",
    "build_pronunciations('bass guitar', 'http://kaiko.getalp.org/dbnary/eng/bass_guitar')\n"
   ],
   "metadata": {
    "collapsed": false
   }
  },
  {
   "cell_type": "code",
   "execution_count": 110,
   "outputs": [
    {
     "data": {
      "text/plain": "(['/seɪ bæs/', '/siː bæs/'], 'Heteronymy')"
     },
     "execution_count": 110,
     "metadata": {},
     "output_type": "execute_result"
    }
   ],
   "source": [
    "build_pronunciations('sea bass', 'http://kaiko.getalp.org/dbnary/eng/sea_bass')\n"
   ],
   "metadata": {
    "collapsed": false
   }
  },
  {
   "cell_type": "code",
   "execution_count": 111,
   "outputs": [
    {
     "data": {
      "text/plain": "(['/ˌæb.əˈsɪn.i.ən bəˈnæ.nə/',\n  '/ˌæb.əˈsɪn.i.ən bəˈnɑː.nə/',\n  '/ˌæb.əˈsɪn.jən bəˈnæ.nə/',\n  '/ˌæb.əˈsɪn.jən bəˈnɑː.nə/',\n  '/ˌæb.ɪˈsɪn.i.ən bəˈnæ.nə/',\n  '/ˌæb.ɪˈsɪn.i.ən bəˈnɑː.nə/',\n  '/ˌæb.ɪˈsɪn.ɪ.ən bəˈnæ.nə/',\n  '/ˌæb.ɪˈsɪn.ɪ.ən bəˈnɑː.nə/'],\n 'Combination')"
     },
     "execution_count": 111,
     "metadata": {},
     "output_type": "execute_result"
    }
   ],
   "source": [
    "build_pronunciations('Abyssinian banana', 'http://kaiko.getalp.org/dbnary/eng/Abyssinian_banana')"
   ],
   "metadata": {
    "collapsed": false
   }
  },
  {
   "cell_type": "code",
   "execution_count": 112,
   "outputs": [
    {
     "data": {
      "text/plain": "(['/beɪs ɡiˈtɑɹ/',\n  '/beɪs ɡəˈtɑɹ/',\n  '/beɪs ɡɪˈtɑɹ/',\n  '/beɪs ɡɪˈtɑː(ɹ)/',\n  '/beɪs ˈɡɪ.tɑɹ/'],\n 'Heteronymy')"
     },
     "execution_count": 112,
     "metadata": {},
     "output_type": "execute_result"
    }
   ],
   "source": [
    "build_pronunciations('bass guitar', 'http://kaiko.getalp.org/dbnary/eng/bass_guitar')"
   ],
   "metadata": {
    "collapsed": false
   }
  },
  {
   "cell_type": "code",
   "execution_count": 117,
   "outputs": [],
   "source": [
    "# aggregated_mwe_with_pron['Computed Pronunciations'] = aggregated_mwe_with_pron['t'].map(build_pronunciations)\n",
    "aggregated_mwe_with_pron['Computed Pronunciations'] = aggregated_mwe_with_pron.apply(lambda x : build_pronunciations(x['t'], x['p']), axis=1)"
   ],
   "metadata": {
    "collapsed": false
   }
  },
  {
   "cell_type": "code",
   "execution_count": 118,
   "outputs": [],
   "source": [
    "aggregated_mwe_with_pron['computed'], aggregated_mwe_with_pron['method'] = zip(*aggregated_mwe_with_pron['Computed Pronunciations'])\n",
    "aggregated_mwe_with_pron = aggregated_mwe_with_pron.drop('Computed Pronunciations', axis=1)"
   ],
   "metadata": {
    "collapsed": false
   }
  },
  {
   "cell_type": "code",
   "execution_count": 130,
   "outputs": [
    {
     "data": {
      "text/plain": "                                                                                                   p  \\\ne                                                                                                      \nhttp://kaiko.getalp.org/dbnary/eng/!Kung__Prope...          http://kaiko.getalp.org/dbnary/eng/!Kung   \nhttp://kaiko.getalp.org/dbnary/eng/'sall_good__...     http://kaiko.getalp.org/dbnary/eng/'sall_good   \nhttp://kaiko.getalp.org/dbnary/eng/++__Suffix__1               http://kaiko.getalp.org/dbnary/eng/++   \nhttp://kaiko.getalp.org/dbnary/eng/10x_develope...  http://kaiko.getalp.org/dbnary/eng/10x_developer   \nhttp://kaiko.getalp.org/dbnary/eng/13th_month__...     http://kaiko.getalp.org/dbnary/eng/13th_month   \n...                                                                                              ...   \nhttp://kaiko.getalp.org/dbnary/eng/Đà_Nẵng__Pro...        http://kaiko.getalp.org/dbnary/eng/Đà_Nẵng   \nhttp://kaiko.getalp.org/dbnary/eng/Đắk_Lắk__Pro...        http://kaiko.getalp.org/dbnary/eng/Đắk_Lắk   \nhttp://kaiko.getalp.org/dbnary/eng/Đắk_Nông__Pr...       http://kaiko.getalp.org/dbnary/eng/Đắk_Nông   \nhttp://kaiko.getalp.org/dbnary/eng/Đồng_Nai__Pr...       http://kaiko.getalp.org/dbnary/eng/Đồng_Nai   \nhttp://kaiko.getalp.org/dbnary/eng/Đồng_Tháp__P...      http://kaiko.getalp.org/dbnary/eng/Đồng_Tháp   \n\n                                                                t  \\\ne                                                                   \nhttp://kaiko.getalp.org/dbnary/eng/!Kung__Prope...          !Kung   \nhttp://kaiko.getalp.org/dbnary/eng/'sall_good__...     'sall good   \nhttp://kaiko.getalp.org/dbnary/eng/++__Suffix__1               ++   \nhttp://kaiko.getalp.org/dbnary/eng/10x_develope...  10x developer   \nhttp://kaiko.getalp.org/dbnary/eng/13th_month__...     13th month   \n...                                                           ...   \nhttp://kaiko.getalp.org/dbnary/eng/Đà_Nẵng__Pro...        Đà Nẵng   \nhttp://kaiko.getalp.org/dbnary/eng/Đắk_Lắk__Pro...        Đắk Lắk   \nhttp://kaiko.getalp.org/dbnary/eng/Đắk_Nông__Pr...       Đắk Nông   \nhttp://kaiko.getalp.org/dbnary/eng/Đồng_Nai__Pr...       Đồng Nai   \nhttp://kaiko.getalp.org/dbnary/eng/Đồng_Tháp__P...      Đồng Tháp   \n\n                                                                        pr  \\\ne                                                                            \nhttp://kaiko.getalp.org/dbnary/eng/!Kung__Prope...            /kʊŋ/,/ǃkʊŋ/   \nhttp://kaiko.getalp.org/dbnary/eng/'sall_good__...             [sɔːl ɡʊːd]   \nhttp://kaiko.getalp.org/dbnary/eng/++__Suffix__1               /plʌsˈplʌs/   \nhttp://kaiko.getalp.org/dbnary/eng/10x_develope...  /ˌtɛˈnɛks dɪˈvɛ.lə.pɚ/   \nhttp://kaiko.getalp.org/dbnary/eng/13th_month__...       /θɜːˌtiːnθ ˈmʌnθ/   \n...                                                                    ...   \nhttp://kaiko.getalp.org/dbnary/eng/Đà_Nẵng__Pro...      /dəˈnæŋ/,/ˈdɑːnæŋ/   \nhttp://kaiko.getalp.org/dbnary/eng/Đắk_Lắk__Pro...               /ˈdæklæk/   \nhttp://kaiko.getalp.org/dbnary/eng/Đắk_Nông__Pr...               /ˈdæknɒŋ/   \nhttp://kaiko.getalp.org/dbnary/eng/Đồng_Nai__Pr...               /ˈdɒŋnaɪ/   \nhttp://kaiko.getalp.org/dbnary/eng/Đồng_Tháp__P...               /ˈdɒŋθæp/   \n\n                                                                                     computed  \\\ne                                                                                               \nhttp://kaiko.getalp.org/dbnary/eng/!Kung__Prope...                            [/kʊŋ/, /ǃkʊŋ/]   \nhttp://kaiko.getalp.org/dbnary/eng/'sall_good__...                                         []   \nhttp://kaiko.getalp.org/dbnary/eng/++__Suffix__1                                [/plʌsˈplʌs/]   \nhttp://kaiko.getalp.org/dbnary/eng/10x_develope...  [/θæŋks dɪˈvɛləpə(ɹ)/, /θæŋks dɪˈvɛləpɚ/]   \nhttp://kaiko.getalp.org/dbnary/eng/13th_month__...                                         []   \n...                                                                                       ...   \nhttp://kaiko.getalp.org/dbnary/eng/Đà_Nẵng__Pro...                                         []   \nhttp://kaiko.getalp.org/dbnary/eng/Đắk_Lắk__Pro...                                         []   \nhttp://kaiko.getalp.org/dbnary/eng/Đắk_Nông__Pr...                                         []   \nhttp://kaiko.getalp.org/dbnary/eng/Đồng_Nai__Pr...                                         []   \nhttp://kaiko.getalp.org/dbnary/eng/Đồng_Tháp__P...                                         []   \n\n                                                                                   method  \\\ne                                                                                           \nhttp://kaiko.getalp.org/dbnary/eng/!Kung__Prope...                            Combination   \nhttp://kaiko.getalp.org/dbnary/eng/'sall_good__...  Missing Pronunciation for a Component   \nhttp://kaiko.getalp.org/dbnary/eng/++__Suffix__1                              Combination   \nhttp://kaiko.getalp.org/dbnary/eng/10x_develope...                            Combination   \nhttp://kaiko.getalp.org/dbnary/eng/13th_month__...  Missing Pronunciation for a Component   \n...                                                                                   ...   \nhttp://kaiko.getalp.org/dbnary/eng/Đà_Nẵng__Pro...  Missing Pronunciation for a Component   \nhttp://kaiko.getalp.org/dbnary/eng/Đắk_Lắk__Pro...  Missing Pronunciation for a Component   \nhttp://kaiko.getalp.org/dbnary/eng/Đắk_Nông__Pr...  Missing Pronunciation for a Component   \nhttp://kaiko.getalp.org/dbnary/eng/Đồng_Nai__Pr...  Missing Pronunciation for a Component   \nhttp://kaiko.getalp.org/dbnary/eng/Đồng_Tháp__P...  Missing Pronunciation for a Component   \n\n                                                    precision  recall   f1  \ne                                                                           \nhttp://kaiko.getalp.org/dbnary/eng/!Kung__Prope...        1.0     1.0  1.0  \nhttp://kaiko.getalp.org/dbnary/eng/'sall_good__...        0.0     0.0  0.0  \nhttp://kaiko.getalp.org/dbnary/eng/++__Suffix__1          1.0     1.0  1.0  \nhttp://kaiko.getalp.org/dbnary/eng/10x_develope...        0.0     0.0  0.0  \nhttp://kaiko.getalp.org/dbnary/eng/13th_month__...        0.0     0.0  0.0  \n...                                                       ...     ...  ...  \nhttp://kaiko.getalp.org/dbnary/eng/Đà_Nẵng__Pro...        0.0     0.0  0.0  \nhttp://kaiko.getalp.org/dbnary/eng/Đắk_Lắk__Pro...        0.0     0.0  0.0  \nhttp://kaiko.getalp.org/dbnary/eng/Đắk_Nông__Pr...        0.0     0.0  0.0  \nhttp://kaiko.getalp.org/dbnary/eng/Đồng_Nai__Pr...        0.0     0.0  0.0  \nhttp://kaiko.getalp.org/dbnary/eng/Đồng_Tháp__P...        0.0     0.0  0.0  \n\n[4977 rows x 8 columns]",
      "text/html": "<div>\n<style scoped>\n    .dataframe tbody tr th:only-of-type {\n        vertical-align: middle;\n    }\n\n    .dataframe tbody tr th {\n        vertical-align: top;\n    }\n\n    .dataframe thead th {\n        text-align: right;\n    }\n</style>\n<table border=\"1\" class=\"dataframe\">\n  <thead>\n    <tr style=\"text-align: right;\">\n      <th></th>\n      <th>p</th>\n      <th>t</th>\n      <th>pr</th>\n      <th>computed</th>\n      <th>method</th>\n      <th>precision</th>\n      <th>recall</th>\n      <th>f1</th>\n    </tr>\n    <tr>\n      <th>e</th>\n      <th></th>\n      <th></th>\n      <th></th>\n      <th></th>\n      <th></th>\n      <th></th>\n      <th></th>\n      <th></th>\n    </tr>\n  </thead>\n  <tbody>\n    <tr>\n      <th>http://kaiko.getalp.org/dbnary/eng/!Kung__Proper_noun__1</th>\n      <td>http://kaiko.getalp.org/dbnary/eng/!Kung</td>\n      <td>!Kung</td>\n      <td>/kʊŋ/,/ǃkʊŋ/</td>\n      <td>[/kʊŋ/, /ǃkʊŋ/]</td>\n      <td>Combination</td>\n      <td>1.0</td>\n      <td>1.0</td>\n      <td>1.0</td>\n    </tr>\n    <tr>\n      <th>http://kaiko.getalp.org/dbnary/eng/'sall_good__Interjection__1</th>\n      <td>http://kaiko.getalp.org/dbnary/eng/'sall_good</td>\n      <td>'sall good</td>\n      <td>[sɔːl ɡʊːd]</td>\n      <td>[]</td>\n      <td>Missing Pronunciation for a Component</td>\n      <td>0.0</td>\n      <td>0.0</td>\n      <td>0.0</td>\n    </tr>\n    <tr>\n      <th>http://kaiko.getalp.org/dbnary/eng/++__Suffix__1</th>\n      <td>http://kaiko.getalp.org/dbnary/eng/++</td>\n      <td>++</td>\n      <td>/plʌsˈplʌs/</td>\n      <td>[/plʌsˈplʌs/]</td>\n      <td>Combination</td>\n      <td>1.0</td>\n      <td>1.0</td>\n      <td>1.0</td>\n    </tr>\n    <tr>\n      <th>http://kaiko.getalp.org/dbnary/eng/10x_developer__Noun__1</th>\n      <td>http://kaiko.getalp.org/dbnary/eng/10x_developer</td>\n      <td>10x developer</td>\n      <td>/ˌtɛˈnɛks dɪˈvɛ.lə.pɚ/</td>\n      <td>[/θæŋks dɪˈvɛləpə(ɹ)/, /θæŋks dɪˈvɛləpɚ/]</td>\n      <td>Combination</td>\n      <td>0.0</td>\n      <td>0.0</td>\n      <td>0.0</td>\n    </tr>\n    <tr>\n      <th>http://kaiko.getalp.org/dbnary/eng/13th_month__Noun__1</th>\n      <td>http://kaiko.getalp.org/dbnary/eng/13th_month</td>\n      <td>13th month</td>\n      <td>/θɜːˌtiːnθ ˈmʌnθ/</td>\n      <td>[]</td>\n      <td>Missing Pronunciation for a Component</td>\n      <td>0.0</td>\n      <td>0.0</td>\n      <td>0.0</td>\n    </tr>\n    <tr>\n      <th>...</th>\n      <td>...</td>\n      <td>...</td>\n      <td>...</td>\n      <td>...</td>\n      <td>...</td>\n      <td>...</td>\n      <td>...</td>\n      <td>...</td>\n    </tr>\n    <tr>\n      <th>http://kaiko.getalp.org/dbnary/eng/Đà_Nẵng__Proper_noun__1</th>\n      <td>http://kaiko.getalp.org/dbnary/eng/Đà_Nẵng</td>\n      <td>Đà Nẵng</td>\n      <td>/dəˈnæŋ/,/ˈdɑːnæŋ/</td>\n      <td>[]</td>\n      <td>Missing Pronunciation for a Component</td>\n      <td>0.0</td>\n      <td>0.0</td>\n      <td>0.0</td>\n    </tr>\n    <tr>\n      <th>http://kaiko.getalp.org/dbnary/eng/Đắk_Lắk__Proper_noun__1</th>\n      <td>http://kaiko.getalp.org/dbnary/eng/Đắk_Lắk</td>\n      <td>Đắk Lắk</td>\n      <td>/ˈdæklæk/</td>\n      <td>[]</td>\n      <td>Missing Pronunciation for a Component</td>\n      <td>0.0</td>\n      <td>0.0</td>\n      <td>0.0</td>\n    </tr>\n    <tr>\n      <th>http://kaiko.getalp.org/dbnary/eng/Đắk_Nông__Proper_noun__1</th>\n      <td>http://kaiko.getalp.org/dbnary/eng/Đắk_Nông</td>\n      <td>Đắk Nông</td>\n      <td>/ˈdæknɒŋ/</td>\n      <td>[]</td>\n      <td>Missing Pronunciation for a Component</td>\n      <td>0.0</td>\n      <td>0.0</td>\n      <td>0.0</td>\n    </tr>\n    <tr>\n      <th>http://kaiko.getalp.org/dbnary/eng/Đồng_Nai__Proper_noun__1</th>\n      <td>http://kaiko.getalp.org/dbnary/eng/Đồng_Nai</td>\n      <td>Đồng Nai</td>\n      <td>/ˈdɒŋnaɪ/</td>\n      <td>[]</td>\n      <td>Missing Pronunciation for a Component</td>\n      <td>0.0</td>\n      <td>0.0</td>\n      <td>0.0</td>\n    </tr>\n    <tr>\n      <th>http://kaiko.getalp.org/dbnary/eng/Đồng_Tháp__Proper_noun__1</th>\n      <td>http://kaiko.getalp.org/dbnary/eng/Đồng_Tháp</td>\n      <td>Đồng Tháp</td>\n      <td>/ˈdɒŋθæp/</td>\n      <td>[]</td>\n      <td>Missing Pronunciation for a Component</td>\n      <td>0.0</td>\n      <td>0.0</td>\n      <td>0.0</td>\n    </tr>\n  </tbody>\n</table>\n<p>4977 rows × 8 columns</p>\n</div>"
     },
     "execution_count": 130,
     "metadata": {},
     "output_type": "execute_result"
    }
   ],
   "source": [
    "aggregated_mwe_with_pron"
   ],
   "metadata": {
    "collapsed": false
   }
  },
  {
   "cell_type": "code",
   "execution_count": 129,
   "outputs": [
    {
     "data": {
      "text/plain": "                                          p     t    pr  computed  precision  \\\nmethod                                                                         \nCombination                            2160  2160  2160      2160       2160   \nHeteronymy                              128   128   128       128        128   \nMissing Pronunciation for a Component  2448  2448  2448      2448       2448   \nNo Derivation for Heteronymy            241   241   241       241        241   \n\n                                       recall    f1  \nmethod                                               \nCombination                              2160  2160  \nHeteronymy                                128   128  \nMissing Pronunciation for a Component    2448  2448  \nNo Derivation for Heteronymy              241   241  ",
      "text/html": "<div>\n<style scoped>\n    .dataframe tbody tr th:only-of-type {\n        vertical-align: middle;\n    }\n\n    .dataframe tbody tr th {\n        vertical-align: top;\n    }\n\n    .dataframe thead th {\n        text-align: right;\n    }\n</style>\n<table border=\"1\" class=\"dataframe\">\n  <thead>\n    <tr style=\"text-align: right;\">\n      <th></th>\n      <th>p</th>\n      <th>t</th>\n      <th>pr</th>\n      <th>computed</th>\n      <th>precision</th>\n      <th>recall</th>\n      <th>f1</th>\n    </tr>\n    <tr>\n      <th>method</th>\n      <th></th>\n      <th></th>\n      <th></th>\n      <th></th>\n      <th></th>\n      <th></th>\n      <th></th>\n    </tr>\n  </thead>\n  <tbody>\n    <tr>\n      <th>Combination</th>\n      <td>2160</td>\n      <td>2160</td>\n      <td>2160</td>\n      <td>2160</td>\n      <td>2160</td>\n      <td>2160</td>\n      <td>2160</td>\n    </tr>\n    <tr>\n      <th>Heteronymy</th>\n      <td>128</td>\n      <td>128</td>\n      <td>128</td>\n      <td>128</td>\n      <td>128</td>\n      <td>128</td>\n      <td>128</td>\n    </tr>\n    <tr>\n      <th>Missing Pronunciation for a Component</th>\n      <td>2448</td>\n      <td>2448</td>\n      <td>2448</td>\n      <td>2448</td>\n      <td>2448</td>\n      <td>2448</td>\n      <td>2448</td>\n    </tr>\n    <tr>\n      <th>No Derivation for Heteronymy</th>\n      <td>241</td>\n      <td>241</td>\n      <td>241</td>\n      <td>241</td>\n      <td>241</td>\n      <td>241</td>\n      <td>241</td>\n    </tr>\n  </tbody>\n</table>\n</div>"
     },
     "execution_count": 129,
     "metadata": {},
     "output_type": "execute_result"
    }
   ],
   "source": [
    "aggregated_mwe_with_pron.groupby('method').count()"
   ],
   "metadata": {
    "collapsed": false
   }
  },
  {
   "cell_type": "code",
   "execution_count": 131,
   "outputs": [],
   "source": [
    "aggregated_mwe_with_pron.to_pickle('../data/aggregated_mwe_with_pron.pkl')"
   ],
   "metadata": {
    "collapsed": false
   }
  },
  {
   "cell_type": "code",
   "execution_count": 132,
   "outputs": [],
   "source": [
    "gold_with_heteronyms = aggregated_mwe_with_pron.query(\"method == 'Heteronymy'\")"
   ],
   "metadata": {
    "collapsed": false
   }
  },
  {
   "cell_type": "code",
   "execution_count": 133,
   "outputs": [
    {
     "data": {
      "text/plain": "                                                                                                    p  \\\ne                                                                                                       \nhttp://kaiko.getalp.org/dbnary/eng/Bath_chair__...      http://kaiko.getalp.org/dbnary/eng/Bath_chair   \nhttp://kaiko.getalp.org/dbnary/eng/absciss_laye...   http://kaiko.getalp.org/dbnary/eng/absciss_layer   \nhttp://kaiko.getalp.org/dbnary/eng/abuse_of_dis...  http://kaiko.getalp.org/dbnary/eng/abuse_of_di...   \nhttp://kaiko.getalp.org/dbnary/eng/access_time_...     http://kaiko.getalp.org/dbnary/eng/access_time   \nhttp://kaiko.getalp.org/dbnary/eng/air_mass__No...        http://kaiko.getalp.org/dbnary/eng/air_mass   \n...                                                                                               ...   \nhttp://kaiko.getalp.org/dbnary/eng/wind_farm__N...       http://kaiko.getalp.org/dbnary/eng/wind_farm   \nhttp://kaiko.getalp.org/dbnary/eng/wind_up__Nou...         http://kaiko.getalp.org/dbnary/eng/wind_up   \nhttp://kaiko.getalp.org/dbnary/eng/wind_up__Ver...         http://kaiko.getalp.org/dbnary/eng/wind_up   \nhttp://kaiko.getalp.org/dbnary/eng/winding_hole...    http://kaiko.getalp.org/dbnary/eng/winding_hole   \nhttp://kaiko.getalp.org/dbnary/eng/winged_word_...     http://kaiko.getalp.org/dbnary/eng/winged_word   \n\n                                                                    t  \\\ne                                                                       \nhttp://kaiko.getalp.org/dbnary/eng/Bath_chair__...         Bath chair   \nhttp://kaiko.getalp.org/dbnary/eng/absciss_laye...      absciss layer   \nhttp://kaiko.getalp.org/dbnary/eng/abuse_of_dis...  abuse of distress   \nhttp://kaiko.getalp.org/dbnary/eng/access_time_...        access time   \nhttp://kaiko.getalp.org/dbnary/eng/air_mass__No...           air mass   \n...                                                               ...   \nhttp://kaiko.getalp.org/dbnary/eng/wind_farm__N...          wind farm   \nhttp://kaiko.getalp.org/dbnary/eng/wind_up__Nou...            wind up   \nhttp://kaiko.getalp.org/dbnary/eng/wind_up__Ver...            wind up   \nhttp://kaiko.getalp.org/dbnary/eng/winding_hole...       winding hole   \nhttp://kaiko.getalp.org/dbnary/eng/winged_word_...        winged word   \n\n                                                                                                   pr  \\\ne                                                                                                       \nhttp://kaiko.getalp.org/dbnary/eng/Bath_chair__...                                       /bɑːθ t͡ʃɛə/   \nhttp://kaiko.getalp.org/dbnary/eng/absciss_laye...  /ˈleɪ.ə/,/ˈleɪ.ɚ/,/ˈlɜ.ə/,/ˈlɜ.ɚ/,/ˈæb.sɪs /,/...   \nhttp://kaiko.getalp.org/dbnary/eng/abuse_of_dis...                                 /əˈbjuːsəvdɪstɹɛs/   \nhttp://kaiko.getalp.org/dbnary/eng/access_time_...                                      /ˈaksɛsˌtʌɪm/   \nhttp://kaiko.getalp.org/dbnary/eng/air_mass__No...                      /ɛəɹ mæs/,/ɛːɹ mæs/,/ˈɛː mas/   \n...                                                                                               ...   \nhttp://kaiko.getalp.org/dbnary/eng/wind_farm__N...                           /ˈwɪndfɑːm/,/ˈwɪndˌfɑɹm/   \nhttp://kaiko.getalp.org/dbnary/eng/wind_up__Nou...                                        /waɪnd ˈʌp/   \nhttp://kaiko.getalp.org/dbnary/eng/wind_up__Ver...                                        /waɪnd ˈʌp/   \nhttp://kaiko.getalp.org/dbnary/eng/winding_hole...                                     /ˈwɪndɪŋˌhəʊl/   \nhttp://kaiko.getalp.org/dbnary/eng/winged_word_...                         /ˌwɪŋd ˈwɜːd/,/ˌwɪŋd ˈwɝd/   \n\n                                                                                             computed  \\\ne                                                                                                       \nhttp://kaiko.getalp.org/dbnary/eng/Bath_chair__...  [/bæːθ t͡ʃɛə(ɹ)/, /bæːθ t͡ʃɛəɹ/, /bæːθ t͡ʃɪə(ɹ...   \nhttp://kaiko.getalp.org/dbnary/eng/absciss_laye...  [/ˈæb.sɪs leɪ.ə/, /ˈæb.sɪs lɛə/, /ˈæb.sɪs ˈleɪ...   \nhttp://kaiko.getalp.org/dbnary/eng/abuse_of_dis...  [/əˈbjus ɒv dɪˈstɹɛs/, /əˈbjus ɔv dɪˈstɹɛs/, /...   \nhttp://kaiko.getalp.org/dbnary/eng/access_time_...  [/ˈæksɛs taɪm/, /ˈæksɛs tɑɪm/, /ˈæksɛs tɜːm/, ...   \nhttp://kaiko.getalp.org/dbnary/eng/air_mass__No...  [/eə̯ mæs/, /eː mæs/, /ɛə̯ mæs/, /ɛɚ mæs/, /ɛɹ...   \n...                                                                                               ...   \nhttp://kaiko.getalp.org/dbnary/eng/wind_farm__N...  [/ˈwaɪnd fɑːm/, /ˈwaɪnd fɑːɹm/, /ˈwɪnd fɑːm/, ...   \nhttp://kaiko.getalp.org/dbnary/eng/wind_up__Nou...                           [/waɪnd ap/, /waɪnd ʌp/]   \nhttp://kaiko.getalp.org/dbnary/eng/wind_up__Ver...                           [/waɪnd ap/, /waɪnd ʌp/]   \nhttp://kaiko.getalp.org/dbnary/eng/winding_hole...   [/ˈwɪndɪŋ hoʊl/, /ˈwɪndɪŋ hɐʉl/, /ˈwɪndɪŋ həʊl/]   \nhttp://kaiko.getalp.org/dbnary/eng/winged_word_...                    [/wɪŋ(ɪ)d wɜːd/, /wɪŋ(ɪ)d wɝd/]   \n\n                                                        method  precision  \\\ne                                                                           \nhttp://kaiko.getalp.org/dbnary/eng/Bath_chair__...  Heteronymy   0.000000   \nhttp://kaiko.getalp.org/dbnary/eng/absciss_laye...  Heteronymy   0.333333   \nhttp://kaiko.getalp.org/dbnary/eng/abuse_of_dis...  Heteronymy   0.100000   \nhttp://kaiko.getalp.org/dbnary/eng/access_time_...  Heteronymy   0.000000   \nhttp://kaiko.getalp.org/dbnary/eng/air_mass__No...  Heteronymy   0.166667   \n...                                                        ...        ...   \nhttp://kaiko.getalp.org/dbnary/eng/wind_farm__N...  Heteronymy   0.500000   \nhttp://kaiko.getalp.org/dbnary/eng/wind_up__Nou...  Heteronymy   0.500000   \nhttp://kaiko.getalp.org/dbnary/eng/wind_up__Ver...  Heteronymy   0.500000   \nhttp://kaiko.getalp.org/dbnary/eng/winding_hole...  Heteronymy   0.333333   \nhttp://kaiko.getalp.org/dbnary/eng/winged_word_...  Heteronymy   0.000000   \n\n                                                      recall        f1  \ne                                                                       \nhttp://kaiko.getalp.org/dbnary/eng/Bath_chair__...  0.000000  0.000000  \nhttp://kaiko.getalp.org/dbnary/eng/absciss_laye...  0.166667  0.222222  \nhttp://kaiko.getalp.org/dbnary/eng/abuse_of_dis...  1.000000  0.181818  \nhttp://kaiko.getalp.org/dbnary/eng/access_time_...  0.000000  0.000000  \nhttp://kaiko.getalp.org/dbnary/eng/air_mass__No...  0.333333  0.222222  \n...                                                      ...       ...  \nhttp://kaiko.getalp.org/dbnary/eng/wind_farm__N...  1.000000  0.666667  \nhttp://kaiko.getalp.org/dbnary/eng/wind_up__Nou...  1.000000  0.666667  \nhttp://kaiko.getalp.org/dbnary/eng/wind_up__Ver...  1.000000  0.666667  \nhttp://kaiko.getalp.org/dbnary/eng/winding_hole...  1.000000  0.500000  \nhttp://kaiko.getalp.org/dbnary/eng/winged_word_...  0.000000  0.000000  \n\n[128 rows x 8 columns]",
      "text/html": "<div>\n<style scoped>\n    .dataframe tbody tr th:only-of-type {\n        vertical-align: middle;\n    }\n\n    .dataframe tbody tr th {\n        vertical-align: top;\n    }\n\n    .dataframe thead th {\n        text-align: right;\n    }\n</style>\n<table border=\"1\" class=\"dataframe\">\n  <thead>\n    <tr style=\"text-align: right;\">\n      <th></th>\n      <th>p</th>\n      <th>t</th>\n      <th>pr</th>\n      <th>computed</th>\n      <th>method</th>\n      <th>precision</th>\n      <th>recall</th>\n      <th>f1</th>\n    </tr>\n    <tr>\n      <th>e</th>\n      <th></th>\n      <th></th>\n      <th></th>\n      <th></th>\n      <th></th>\n      <th></th>\n      <th></th>\n      <th></th>\n    </tr>\n  </thead>\n  <tbody>\n    <tr>\n      <th>http://kaiko.getalp.org/dbnary/eng/Bath_chair__Noun__1</th>\n      <td>http://kaiko.getalp.org/dbnary/eng/Bath_chair</td>\n      <td>Bath chair</td>\n      <td>/bɑːθ t͡ʃɛə/</td>\n      <td>[/bæːθ t͡ʃɛə(ɹ)/, /bæːθ t͡ʃɛəɹ/, /bæːθ t͡ʃɪə(ɹ...</td>\n      <td>Heteronymy</td>\n      <td>0.000000</td>\n      <td>0.000000</td>\n      <td>0.000000</td>\n    </tr>\n    <tr>\n      <th>http://kaiko.getalp.org/dbnary/eng/absciss_layer__Noun__1</th>\n      <td>http://kaiko.getalp.org/dbnary/eng/absciss_layer</td>\n      <td>absciss layer</td>\n      <td>/ˈleɪ.ə/,/ˈleɪ.ɚ/,/ˈlɜ.ə/,/ˈlɜ.ɚ/,/ˈæb.sɪs /,/...</td>\n      <td>[/ˈæb.sɪs leɪ.ə/, /ˈæb.sɪs lɛə/, /ˈæb.sɪs ˈleɪ...</td>\n      <td>Heteronymy</td>\n      <td>0.333333</td>\n      <td>0.166667</td>\n      <td>0.222222</td>\n    </tr>\n    <tr>\n      <th>http://kaiko.getalp.org/dbnary/eng/abuse_of_distress__Noun__1</th>\n      <td>http://kaiko.getalp.org/dbnary/eng/abuse_of_di...</td>\n      <td>abuse of distress</td>\n      <td>/əˈbjuːsəvdɪstɹɛs/</td>\n      <td>[/əˈbjus ɒv dɪˈstɹɛs/, /əˈbjus ɔv dɪˈstɹɛs/, /...</td>\n      <td>Heteronymy</td>\n      <td>0.100000</td>\n      <td>1.000000</td>\n      <td>0.181818</td>\n    </tr>\n    <tr>\n      <th>http://kaiko.getalp.org/dbnary/eng/access_time__Noun__1</th>\n      <td>http://kaiko.getalp.org/dbnary/eng/access_time</td>\n      <td>access time</td>\n      <td>/ˈaksɛsˌtʌɪm/</td>\n      <td>[/ˈæksɛs taɪm/, /ˈæksɛs tɑɪm/, /ˈæksɛs tɜːm/, ...</td>\n      <td>Heteronymy</td>\n      <td>0.000000</td>\n      <td>0.000000</td>\n      <td>0.000000</td>\n    </tr>\n    <tr>\n      <th>http://kaiko.getalp.org/dbnary/eng/air_mass__Noun__1</th>\n      <td>http://kaiko.getalp.org/dbnary/eng/air_mass</td>\n      <td>air mass</td>\n      <td>/ɛəɹ mæs/,/ɛːɹ mæs/,/ˈɛː mas/</td>\n      <td>[/eə̯ mæs/, /eː mæs/, /ɛə̯ mæs/, /ɛɚ mæs/, /ɛɹ...</td>\n      <td>Heteronymy</td>\n      <td>0.166667</td>\n      <td>0.333333</td>\n      <td>0.222222</td>\n    </tr>\n    <tr>\n      <th>...</th>\n      <td>...</td>\n      <td>...</td>\n      <td>...</td>\n      <td>...</td>\n      <td>...</td>\n      <td>...</td>\n      <td>...</td>\n      <td>...</td>\n    </tr>\n    <tr>\n      <th>http://kaiko.getalp.org/dbnary/eng/wind_farm__Noun__1</th>\n      <td>http://kaiko.getalp.org/dbnary/eng/wind_farm</td>\n      <td>wind farm</td>\n      <td>/ˈwɪndfɑːm/,/ˈwɪndˌfɑɹm/</td>\n      <td>[/ˈwaɪnd fɑːm/, /ˈwaɪnd fɑːɹm/, /ˈwɪnd fɑːm/, ...</td>\n      <td>Heteronymy</td>\n      <td>0.500000</td>\n      <td>1.000000</td>\n      <td>0.666667</td>\n    </tr>\n    <tr>\n      <th>http://kaiko.getalp.org/dbnary/eng/wind_up__Noun__1</th>\n      <td>http://kaiko.getalp.org/dbnary/eng/wind_up</td>\n      <td>wind up</td>\n      <td>/waɪnd ˈʌp/</td>\n      <td>[/waɪnd ap/, /waɪnd ʌp/]</td>\n      <td>Heteronymy</td>\n      <td>0.500000</td>\n      <td>1.000000</td>\n      <td>0.666667</td>\n    </tr>\n    <tr>\n      <th>http://kaiko.getalp.org/dbnary/eng/wind_up__Verb__1</th>\n      <td>http://kaiko.getalp.org/dbnary/eng/wind_up</td>\n      <td>wind up</td>\n      <td>/waɪnd ˈʌp/</td>\n      <td>[/waɪnd ap/, /waɪnd ʌp/]</td>\n      <td>Heteronymy</td>\n      <td>0.500000</td>\n      <td>1.000000</td>\n      <td>0.666667</td>\n    </tr>\n    <tr>\n      <th>http://kaiko.getalp.org/dbnary/eng/winding_hole__Noun__1</th>\n      <td>http://kaiko.getalp.org/dbnary/eng/winding_hole</td>\n      <td>winding hole</td>\n      <td>/ˈwɪndɪŋˌhəʊl/</td>\n      <td>[/ˈwɪndɪŋ hoʊl/, /ˈwɪndɪŋ hɐʉl/, /ˈwɪndɪŋ həʊl/]</td>\n      <td>Heteronymy</td>\n      <td>0.333333</td>\n      <td>1.000000</td>\n      <td>0.500000</td>\n    </tr>\n    <tr>\n      <th>http://kaiko.getalp.org/dbnary/eng/winged_word__Noun__1</th>\n      <td>http://kaiko.getalp.org/dbnary/eng/winged_word</td>\n      <td>winged word</td>\n      <td>/ˌwɪŋd ˈwɜːd/,/ˌwɪŋd ˈwɝd/</td>\n      <td>[/wɪŋ(ɪ)d wɜːd/, /wɪŋ(ɪ)d wɝd/]</td>\n      <td>Heteronymy</td>\n      <td>0.000000</td>\n      <td>0.000000</td>\n      <td>0.000000</td>\n    </tr>\n  </tbody>\n</table>\n<p>128 rows × 8 columns</p>\n</div>"
     },
     "execution_count": 133,
     "metadata": {},
     "output_type": "execute_result"
    }
   ],
   "source": [
    "gold_with_heteronyms"
   ],
   "metadata": {
    "collapsed": false
   }
  },
  {
   "cell_type": "markdown",
   "source": [
    "### Evaluating the methodology\n",
    "\n",
    "For each entry, compare the known prons with the computed ones, by calculating recall and precision"
   ],
   "metadata": {
    "collapsed": false
   }
  },
  {
   "cell_type": "code",
   "execution_count": 173,
   "outputs": [],
   "source": [
    "# aggregated_mwe_with_pron['recall'], aggregated_mwe_with_pron['precision'] = zip(*aggregated_mwe_with_pron[['pr','computed']].applymap(lambda pair: print(pair)))\n",
    "ipa_normalizer = str.maketrans('', '', 'ˈˌːˑ.ǀǁ‿' )\n",
    "ipa_normalizer_no_spaces = str.maketrans('', '', 'ˈˌːˑ.ǀǁ‿ ' )\n",
    "\n",
    "def no_suprasegmentals(pron: str) -> str:\n",
    " return pron.translate(ipa_normalizer)\n",
    "\n",
    "def no_space(pron: str) -> str:\n",
    " return pron.translate(str.maketrans('', '', ' ' ))\n",
    "\n",
    "def no_suprasegmentals_no_spaces(pron: str) -> str:\n",
    " return pron.translate(ipa_normalizer_no_spaces)\n",
    "\n",
    "def precision_recall(line, normalizer=None):\n",
    "    gold = str.split(line['pr'], sep=',')\n",
    "    if normalizer:\n",
    "        gold = [normalizer(x) for x in gold]\n",
    "    answer = line['computed']\n",
    "    if normalizer:\n",
    "        answer = [normalizer(x) for x in answer]\n",
    "    intersection = list(set(gold) & set(answer))\n",
    "    precision, recall, f1_measure = 0, 0, 0\n",
    "    if len(answer) > 0 :\n",
    "        precision = len(intersection) / len(answer)\n",
    "    if len(gold) > 0 :\n",
    "        recall = len(intersection) / len(gold)\n",
    "    if precision > 0 or recall > 0:\n",
    "        f1_measure = 2 * precision * recall / (precision + recall)\n",
    "    return precision, recall, f1_measure\n",
    "\n",
    "def precision_recall_no_suprasegmentals(line):\n",
    "    return precision_recall(line, normalizer=no_suprasegmentals)\n",
    "\n",
    "def precision_recall_no_suprasegmentals_no_spaces(line):\n",
    "    return precision_recall(line, normalizer=no_suprasegmentals_no_spaces)\n",
    "\n",
    "def precision_recall_no_space(line):\n",
    "    return precision_recall(line, normalizer=no_space)\n",
    "\n",
    "#aggregated_mwe_with_pron.sample(10)[['pr','computed']].apply(precision_recall, axis=1)\n",
    "aggregated_mwe_with_pron['precision'], aggregated_mwe_with_pron['recall'], aggregated_mwe_with_pron['f1'] = zip(*aggregated_mwe_with_pron[['pr','computed']].apply(precision_recall_no_suprasegmentals, axis=1))\n",
    "#aggregated_mwe_with_pron['precision'], aggregated_mwe_with_pron['recall'], aggregated_mwe_with_pron['f1'] = zip(*aggregated_mwe_with_pron[['pr','computed']].apply(precision_recall_no_suprasegmentals_no_spaces, axis=1))\n",
    "#aggregated_mwe_with_pron['precision'], aggregated_mwe_with_pron['recall'], aggregated_mwe_with_pron['f1'] = zip(*aggregated_mwe_with_pron[['pr','computed']].apply(precision_recall_no_space, axis=1))\n",
    "#aggregated_mwe_with_pron['precision'], aggregated_mwe_with_pron['recall'], aggregated_mwe_with_pron['f1'] = zip(*aggregated_mwe_with_pron[['pr','computed']].apply(precision_recall, axis=1))\n"
   ],
   "metadata": {
    "collapsed": false
   }
  },
  {
   "cell_type": "code",
   "execution_count": 174,
   "outputs": [
    {
     "name": "stdout",
     "output_type": "stream",
     "text": [
      "F1:        all:  0.14956708102049934  / Combinations:  0.3324374651970818  / Heteronymy:  0.20570654229162993\n",
      "Precision: all:  0.13182251126862948  / Combinations:  0.2937373620722372  / Heteronymy:  0.16881200396825397\n",
      "Recall:    all:  0.22923105013219539  / Combinations:  0.5045214212228101  / Heteronymy:  0.3993489583333333\n"
     ]
    }
   ],
   "source": [
    "# F-measure on all MWT\n",
    "f1_all = aggregated_mwe_with_pron['f1'].sum() / aggregated_mwe_with_pron['f1'].count()\n",
    "prec_all = aggregated_mwe_with_pron['precision'].sum() / aggregated_mwe_with_pron['precision'].count()\n",
    "recall_all = aggregated_mwe_with_pron['recall'].sum() / aggregated_mwe_with_pron['recall'].count()\n",
    "\n",
    "combinations_results = aggregated_mwe_with_pron[aggregated_mwe_with_pron['method'] == 'Combination']\n",
    "f1_combination = combinations_results['f1'].sum() / combinations_results['f1'].count()\n",
    "prec_combination = combinations_results['precision'].sum() / combinations_results['precision'].count()\n",
    "recall_combination = combinations_results['recall'].sum() / combinations_results['recall'].count()\n",
    "\n",
    "heteronymy_results = aggregated_mwe_with_pron[aggregated_mwe_with_pron['method'] == 'Heteronymy']\n",
    "f1_heteronym = heteronymy_results['f1'].sum() / heteronymy_results['f1'].count()\n",
    "prec_heteronym = heteronymy_results['precision'].sum() / heteronymy_results['precision'].count()\n",
    "recall_heteronym = heteronymy_results['recall'].sum() / heteronymy_results['recall'].count()\n",
    "\n",
    "print('F1:        all: ', f1_all,     ' / Combinations: ', f1_combination,     ' / Heteronymy: ', f1_heteronym, end=\"\\n\")\n",
    "print('Precision: all: ', prec_all,   ' / Combinations: ', prec_combination,   ' / Heteronymy: ', prec_heteronym, end=\"\\n\")\n",
    "print('Recall:    all: ', recall_all, ' / Combinations: ', recall_combination, ' / Heteronymy: ', recall_heteronym, end=\"\\n\")\n"
   ],
   "metadata": {
    "collapsed": false
   }
  },
  {
   "cell_type": "markdown",
   "source": [
    "Here, the brute precision/recall/f1 is :\n",
    "\n",
    "F1:        all:  0.05607510458121018  / Combinations:  0.1269479189362928  / Heteronymy:  0.038111645299145305\n",
    "Precision: all:  0.0516666467337052  / Combinations:  0.1172070013962375  / Heteronymy:  0.03107638888888889\n",
    "Recall:    all:  0.07717165628558033  / Combinations:  0.17318672839506172  / Heteronymy:  0.078125\n",
    "\n",
    "When removing SPACES :\n",
    "\n",
    "F1:        all:  0.05704945673096919  / Combinations:  0.1285977505861244  / Heteronymy:  0.048156288156288155\n",
    "Precision: all:  0.05246587875656591  / Combinations:  0.11862418246619637  / Heteronymy:  0.038237847222222225\n",
    "Recall:    all:  0.0789799745495948  / Combinations:  0.17619598765432098  / Heteronymy:  0.09765625\n",
    "\n",
    "When removing the suprasegmentals markers in the gold and computed pronunciation, we get :\n",
    "F1:        all:  0.14956708102049934  / Combinations:  0.3324374651970818  / Heteronymy:  0.20570654229162993\n",
    "Precision: all:  0.13182251126862948  / Combinations:  0.2937373620722372  / Heteronymy:  0.16881200396825397\n",
    "Recall:    all:  0.22923105013219539  / Combinations:  0.5045214212228101  / Heteronymy:  0.3993489583333333\n",
    "\n",
    "When removing the suprasegmentals markers AND SPACES in the gold and computed pronunciation, we get :\n",
    "F1:        all:  0.1766825076287711  / Combinations:  0.3896924625335098  / Heteronymy:  0.29385251090634856\n",
    "Precision: all:  0.15615959534302604  / Combinations:  0.34578628218254814  / Heteronymy:  0.236780753968254\n",
    "Recall:    all:  0.2748492270794863  / Combinations:  0.5994481187536743  / Heteronymy:  0.5712239583333334"
   ],
   "metadata": {
    "collapsed": false
   }
  },
  {
   "cell_type": "markdown",
   "source": [
    "### Computing the larger problem\n",
    "\n",
    "We apply the very same technique on all MWT for which we have no known pronunciation.\n"
   ],
   "metadata": {
    "collapsed": false
   }
  },
  {
   "cell_type": "code",
   "execution_count": 140,
   "outputs": [
    {
     "ename": "KeyboardInterrupt",
     "evalue": "",
     "output_type": "error",
     "traceback": [
      "\u001B[0;31m---------------------------------------------------------------------------\u001B[0m",
      "\u001B[0;31mKeyboardInterrupt\u001B[0m                         Traceback (most recent call last)",
      "Cell \u001B[0;32mIn[140], line 1\u001B[0m\n\u001B[0;32m----> 1\u001B[0m mwe_without_pron[\u001B[38;5;124m'\u001B[39m\u001B[38;5;124mComputed Pronunciations\u001B[39m\u001B[38;5;124m'\u001B[39m] \u001B[38;5;241m=\u001B[39m \u001B[43mmwe_without_pron\u001B[49m\u001B[38;5;241;43m.\u001B[39;49m\u001B[43mapply\u001B[49m\u001B[43m(\u001B[49m\n\u001B[1;32m      2\u001B[0m \u001B[43m    \u001B[49m\u001B[38;5;28;43;01mlambda\u001B[39;49;00m\u001B[43m \u001B[49m\u001B[43mx\u001B[49m\u001B[43m:\u001B[49m\u001B[43m \u001B[49m\u001B[43mbuild_pronunciations\u001B[49m\u001B[43m(\u001B[49m\u001B[43mx\u001B[49m\u001B[43m[\u001B[49m\u001B[38;5;124;43m'\u001B[39;49m\u001B[38;5;124;43mt\u001B[39;49m\u001B[38;5;124;43m'\u001B[39;49m\u001B[43m]\u001B[49m\u001B[43m,\u001B[49m\u001B[43m \u001B[49m\u001B[43mx\u001B[49m\u001B[43m[\u001B[49m\u001B[38;5;124;43m'\u001B[39;49m\u001B[38;5;124;43mp\u001B[39;49m\u001B[38;5;124;43m'\u001B[39;49m\u001B[43m]\u001B[49m\u001B[43m)\u001B[49m\u001B[43m,\u001B[49m\u001B[43m \u001B[49m\u001B[43maxis\u001B[49m\u001B[38;5;241;43m=\u001B[39;49m\u001B[38;5;241;43m1\u001B[39;49m\u001B[43m)\u001B[49m\n\u001B[1;32m      3\u001B[0m mwe_without_pron[\u001B[38;5;124m'\u001B[39m\u001B[38;5;124mcomputed\u001B[39m\u001B[38;5;124m'\u001B[39m], mwe_without_pron[\u001B[38;5;124m'\u001B[39m\u001B[38;5;124mmethod\u001B[39m\u001B[38;5;124m'\u001B[39m] \u001B[38;5;241m=\u001B[39m \u001B[38;5;28mzip\u001B[39m(\n\u001B[1;32m      4\u001B[0m     \u001B[38;5;241m*\u001B[39mmwe_without_pron[\u001B[38;5;124m'\u001B[39m\u001B[38;5;124mComputed Pronunciations\u001B[39m\u001B[38;5;124m'\u001B[39m])\n\u001B[1;32m      5\u001B[0m mwe_without_pron \u001B[38;5;241m=\u001B[39m mwe_without_pron\u001B[38;5;241m.\u001B[39mdrop(\u001B[38;5;124m'\u001B[39m\u001B[38;5;124mComputed Pronunciations\u001B[39m\u001B[38;5;124m'\u001B[39m, axis\u001B[38;5;241m=\u001B[39m\u001B[38;5;241m1\u001B[39m)\n",
      "File \u001B[0;32m~/dev/dbnary/mwe_ldk2023/venv/lib/python3.11/site-packages/pandas/core/frame.py:9568\u001B[0m, in \u001B[0;36mDataFrame.apply\u001B[0;34m(self, func, axis, raw, result_type, args, **kwargs)\u001B[0m\n\u001B[1;32m   9557\u001B[0m \u001B[38;5;28;01mfrom\u001B[39;00m \u001B[38;5;21;01mpandas\u001B[39;00m\u001B[38;5;21;01m.\u001B[39;00m\u001B[38;5;21;01mcore\u001B[39;00m\u001B[38;5;21;01m.\u001B[39;00m\u001B[38;5;21;01mapply\u001B[39;00m \u001B[38;5;28;01mimport\u001B[39;00m frame_apply\n\u001B[1;32m   9559\u001B[0m op \u001B[38;5;241m=\u001B[39m frame_apply(\n\u001B[1;32m   9560\u001B[0m     \u001B[38;5;28mself\u001B[39m,\n\u001B[1;32m   9561\u001B[0m     func\u001B[38;5;241m=\u001B[39mfunc,\n\u001B[0;32m   (...)\u001B[0m\n\u001B[1;32m   9566\u001B[0m     kwargs\u001B[38;5;241m=\u001B[39mkwargs,\n\u001B[1;32m   9567\u001B[0m )\n\u001B[0;32m-> 9568\u001B[0m \u001B[38;5;28;01mreturn\u001B[39;00m \u001B[43mop\u001B[49m\u001B[38;5;241;43m.\u001B[39;49m\u001B[43mapply\u001B[49m\u001B[43m(\u001B[49m\u001B[43m)\u001B[49m\u001B[38;5;241m.\u001B[39m__finalize__(\u001B[38;5;28mself\u001B[39m, method\u001B[38;5;241m=\u001B[39m\u001B[38;5;124m\"\u001B[39m\u001B[38;5;124mapply\u001B[39m\u001B[38;5;124m\"\u001B[39m)\n",
      "File \u001B[0;32m~/dev/dbnary/mwe_ldk2023/venv/lib/python3.11/site-packages/pandas/core/apply.py:764\u001B[0m, in \u001B[0;36mFrameApply.apply\u001B[0;34m(self)\u001B[0m\n\u001B[1;32m    761\u001B[0m \u001B[38;5;28;01melif\u001B[39;00m \u001B[38;5;28mself\u001B[39m\u001B[38;5;241m.\u001B[39mraw:\n\u001B[1;32m    762\u001B[0m     \u001B[38;5;28;01mreturn\u001B[39;00m \u001B[38;5;28mself\u001B[39m\u001B[38;5;241m.\u001B[39mapply_raw()\n\u001B[0;32m--> 764\u001B[0m \u001B[38;5;28;01mreturn\u001B[39;00m \u001B[38;5;28;43mself\u001B[39;49m\u001B[38;5;241;43m.\u001B[39;49m\u001B[43mapply_standard\u001B[49m\u001B[43m(\u001B[49m\u001B[43m)\u001B[49m\n",
      "File \u001B[0;32m~/dev/dbnary/mwe_ldk2023/venv/lib/python3.11/site-packages/pandas/core/apply.py:891\u001B[0m, in \u001B[0;36mFrameApply.apply_standard\u001B[0;34m(self)\u001B[0m\n\u001B[1;32m    890\u001B[0m \u001B[38;5;28;01mdef\u001B[39;00m \u001B[38;5;21mapply_standard\u001B[39m(\u001B[38;5;28mself\u001B[39m):\n\u001B[0;32m--> 891\u001B[0m     results, res_index \u001B[38;5;241m=\u001B[39m \u001B[38;5;28;43mself\u001B[39;49m\u001B[38;5;241;43m.\u001B[39;49m\u001B[43mapply_series_generator\u001B[49m\u001B[43m(\u001B[49m\u001B[43m)\u001B[49m\n\u001B[1;32m    893\u001B[0m     \u001B[38;5;66;03m# wrap results\u001B[39;00m\n\u001B[1;32m    894\u001B[0m     \u001B[38;5;28;01mreturn\u001B[39;00m \u001B[38;5;28mself\u001B[39m\u001B[38;5;241m.\u001B[39mwrap_results(results, res_index)\n",
      "File \u001B[0;32m~/dev/dbnary/mwe_ldk2023/venv/lib/python3.11/site-packages/pandas/core/apply.py:907\u001B[0m, in \u001B[0;36mFrameApply.apply_series_generator\u001B[0;34m(self)\u001B[0m\n\u001B[1;32m    904\u001B[0m \u001B[38;5;28;01mwith\u001B[39;00m option_context(\u001B[38;5;124m\"\u001B[39m\u001B[38;5;124mmode.chained_assignment\u001B[39m\u001B[38;5;124m\"\u001B[39m, \u001B[38;5;28;01mNone\u001B[39;00m):\n\u001B[1;32m    905\u001B[0m     \u001B[38;5;28;01mfor\u001B[39;00m i, v \u001B[38;5;129;01min\u001B[39;00m \u001B[38;5;28menumerate\u001B[39m(series_gen):\n\u001B[1;32m    906\u001B[0m         \u001B[38;5;66;03m# ignore SettingWithCopy here in case the user mutates\u001B[39;00m\n\u001B[0;32m--> 907\u001B[0m         results[i] \u001B[38;5;241m=\u001B[39m \u001B[38;5;28;43mself\u001B[39;49m\u001B[38;5;241;43m.\u001B[39;49m\u001B[43mf\u001B[49m\u001B[43m(\u001B[49m\u001B[43mv\u001B[49m\u001B[43m)\u001B[49m\n\u001B[1;32m    908\u001B[0m         \u001B[38;5;28;01mif\u001B[39;00m \u001B[38;5;28misinstance\u001B[39m(results[i], ABCSeries):\n\u001B[1;32m    909\u001B[0m             \u001B[38;5;66;03m# If we have a view on v, we need to make a copy because\u001B[39;00m\n\u001B[1;32m    910\u001B[0m             \u001B[38;5;66;03m#  series_generator will swap out the underlying data\u001B[39;00m\n\u001B[1;32m    911\u001B[0m             results[i] \u001B[38;5;241m=\u001B[39m results[i]\u001B[38;5;241m.\u001B[39mcopy(deep\u001B[38;5;241m=\u001B[39m\u001B[38;5;28;01mFalse\u001B[39;00m)\n",
      "Cell \u001B[0;32mIn[140], line 2\u001B[0m, in \u001B[0;36m<lambda>\u001B[0;34m(x)\u001B[0m\n\u001B[1;32m      1\u001B[0m mwe_without_pron[\u001B[38;5;124m'\u001B[39m\u001B[38;5;124mComputed Pronunciations\u001B[39m\u001B[38;5;124m'\u001B[39m] \u001B[38;5;241m=\u001B[39m mwe_without_pron\u001B[38;5;241m.\u001B[39mapply(\n\u001B[0;32m----> 2\u001B[0m     \u001B[38;5;28;01mlambda\u001B[39;00m x: \u001B[43mbuild_pronunciations\u001B[49m\u001B[43m(\u001B[49m\u001B[43mx\u001B[49m\u001B[43m[\u001B[49m\u001B[38;5;124;43m'\u001B[39;49m\u001B[38;5;124;43mt\u001B[39;49m\u001B[38;5;124;43m'\u001B[39;49m\u001B[43m]\u001B[49m\u001B[43m,\u001B[49m\u001B[43m \u001B[49m\u001B[43mx\u001B[49m\u001B[43m[\u001B[49m\u001B[38;5;124;43m'\u001B[39;49m\u001B[38;5;124;43mp\u001B[39;49m\u001B[38;5;124;43m'\u001B[39;49m\u001B[43m]\u001B[49m\u001B[43m)\u001B[49m, axis\u001B[38;5;241m=\u001B[39m\u001B[38;5;241m1\u001B[39m)\n\u001B[1;32m      3\u001B[0m mwe_without_pron[\u001B[38;5;124m'\u001B[39m\u001B[38;5;124mcomputed\u001B[39m\u001B[38;5;124m'\u001B[39m], mwe_without_pron[\u001B[38;5;124m'\u001B[39m\u001B[38;5;124mmethod\u001B[39m\u001B[38;5;124m'\u001B[39m] \u001B[38;5;241m=\u001B[39m \u001B[38;5;28mzip\u001B[39m(\n\u001B[1;32m      4\u001B[0m     \u001B[38;5;241m*\u001B[39mmwe_without_pron[\u001B[38;5;124m'\u001B[39m\u001B[38;5;124mComputed Pronunciations\u001B[39m\u001B[38;5;124m'\u001B[39m])\n\u001B[1;32m      5\u001B[0m mwe_without_pron \u001B[38;5;241m=\u001B[39m mwe_without_pron\u001B[38;5;241m.\u001B[39mdrop(\u001B[38;5;124m'\u001B[39m\u001B[38;5;124mComputed Pronunciations\u001B[39m\u001B[38;5;124m'\u001B[39m, axis\u001B[38;5;241m=\u001B[39m\u001B[38;5;241m1\u001B[39m)\n",
      "Cell \u001B[0;32mIn[116], line 22\u001B[0m, in \u001B[0;36mbuild_pronunciations\u001B[0;34m(term, page)\u001B[0m\n\u001B[1;32m     20\u001B[0m \u001B[38;5;28;01mfor\u001B[39;00m component \u001B[38;5;129;01min\u001B[39;00m components:\n\u001B[1;32m     21\u001B[0m     prons: List[\u001B[38;5;28mstr\u001B[39m] \u001B[38;5;241m=\u001B[39m []\n\u001B[0;32m---> 22\u001B[0m     entries_and_pronunciations \u001B[38;5;241m=\u001B[39m \u001B[43mget_entries_and_pronunciations\u001B[49m\u001B[43m(\u001B[49m\u001B[43mcomponent\u001B[49m\u001B[43m)\u001B[49m\n\u001B[1;32m     23\u001B[0m     \u001B[38;5;28;01mif\u001B[39;00m entries_and_pronunciations[\u001B[38;5;124m'\u001B[39m\u001B[38;5;124mprons\u001B[39m\u001B[38;5;124m'\u001B[39m]\u001B[38;5;241m.\u001B[39mnunique() \u001B[38;5;241m==\u001B[39m \u001B[38;5;241m0\u001B[39m:\n\u001B[1;32m     24\u001B[0m         \u001B[38;5;66;03m# print(f'WARN: component {component} has no pronunciation', end='\\n')\u001B[39;00m\n\u001B[1;32m     25\u001B[0m         \u001B[38;5;28;01mreturn\u001B[39;00m [], \u001B[38;5;124m'\u001B[39m\u001B[38;5;124mMissing Pronunciation for a Component\u001B[39m\u001B[38;5;124m'\u001B[39m\n",
      "Cell \u001B[0;32mIn[17], line 2\u001B[0m, in \u001B[0;36mget_entries_and_pronunciations\u001B[0;34m(page)\u001B[0m\n\u001B[1;32m      1\u001B[0m \u001B[38;5;28;01mdef\u001B[39;00m \u001B[38;5;21mget_entries_and_pronunciations\u001B[39m(page: \u001B[38;5;28mstr\u001B[39m) \u001B[38;5;241m-\u001B[39m\u001B[38;5;241m>\u001B[39m pd\u001B[38;5;241m.\u001B[39mDataFrame:\n\u001B[0;32m----> 2\u001B[0m     \u001B[38;5;28;01mreturn\u001B[39;00m entries_with_pron[\u001B[43mentries_with_pron\u001B[49m\u001B[38;5;241;43m.\u001B[39;49m\u001B[43mt\u001B[49m\u001B[43m \u001B[49m\u001B[38;5;241;43m==\u001B[39;49m\u001B[43m \u001B[49m\u001B[43mpage\u001B[49m][[\u001B[38;5;124m'\u001B[39m\u001B[38;5;124me\u001B[39m\u001B[38;5;124m'\u001B[39m, \u001B[38;5;124m'\u001B[39m\u001B[38;5;124mpr\u001B[39m\u001B[38;5;124m'\u001B[39m]]\u001B[38;5;241m.\u001B[39mgroupby(\u001B[38;5;124m'\u001B[39m\u001B[38;5;124me\u001B[39m\u001B[38;5;124m'\u001B[39m)\u001B[38;5;241m.\u001B[39maggregate(\u001B[38;5;28;01mlambda\u001B[39;00m tdf: \u001B[38;5;124m'\u001B[39m\u001B[38;5;124m,\u001B[39m\u001B[38;5;124m'\u001B[39m\u001B[38;5;241m.\u001B[39mjoin(\u001B[38;5;28msorted\u001B[39m(tdf\u001B[38;5;241m.\u001B[39munique()\u001B[38;5;241m.\u001B[39mtolist())))\u001B[38;5;241m.\u001B[39mrename(\n\u001B[1;32m      3\u001B[0m         columns\u001B[38;5;241m=\u001B[39m{\u001B[38;5;124m\"\u001B[39m\u001B[38;5;124mpr\u001B[39m\u001B[38;5;124m\"\u001B[39m: \u001B[38;5;124m\"\u001B[39m\u001B[38;5;124mprons\u001B[39m\u001B[38;5;124m\"\u001B[39m}\n\u001B[1;32m      4\u001B[0m     )\n",
      "File \u001B[0;32m~/dev/dbnary/mwe_ldk2023/venv/lib/python3.11/site-packages/pandas/core/ops/common.py:72\u001B[0m, in \u001B[0;36m_unpack_zerodim_and_defer.<locals>.new_method\u001B[0;34m(self, other)\u001B[0m\n\u001B[1;32m     68\u001B[0m             \u001B[38;5;28;01mreturn\u001B[39;00m \u001B[38;5;28mNotImplemented\u001B[39m\n\u001B[1;32m     70\u001B[0m other \u001B[38;5;241m=\u001B[39m item_from_zerodim(other)\n\u001B[0;32m---> 72\u001B[0m \u001B[38;5;28;01mreturn\u001B[39;00m \u001B[43mmethod\u001B[49m\u001B[43m(\u001B[49m\u001B[38;5;28;43mself\u001B[39;49m\u001B[43m,\u001B[49m\u001B[43m \u001B[49m\u001B[43mother\u001B[49m\u001B[43m)\u001B[49m\n",
      "File \u001B[0;32m~/dev/dbnary/mwe_ldk2023/venv/lib/python3.11/site-packages/pandas/core/arraylike.py:42\u001B[0m, in \u001B[0;36mOpsMixin.__eq__\u001B[0;34m(self, other)\u001B[0m\n\u001B[1;32m     40\u001B[0m \u001B[38;5;129m@unpack_zerodim_and_defer\u001B[39m(\u001B[38;5;124m\"\u001B[39m\u001B[38;5;124m__eq__\u001B[39m\u001B[38;5;124m\"\u001B[39m)\n\u001B[1;32m     41\u001B[0m \u001B[38;5;28;01mdef\u001B[39;00m \u001B[38;5;21m__eq__\u001B[39m(\u001B[38;5;28mself\u001B[39m, other):\n\u001B[0;32m---> 42\u001B[0m     \u001B[38;5;28;01mreturn\u001B[39;00m \u001B[38;5;28;43mself\u001B[39;49m\u001B[38;5;241;43m.\u001B[39;49m\u001B[43m_cmp_method\u001B[49m\u001B[43m(\u001B[49m\u001B[43mother\u001B[49m\u001B[43m,\u001B[49m\u001B[43m \u001B[49m\u001B[43moperator\u001B[49m\u001B[38;5;241;43m.\u001B[39;49m\u001B[43meq\u001B[49m\u001B[43m)\u001B[49m\n",
      "File \u001B[0;32m~/dev/dbnary/mwe_ldk2023/venv/lib/python3.11/site-packages/pandas/core/series.py:6243\u001B[0m, in \u001B[0;36mSeries._cmp_method\u001B[0;34m(self, other, op)\u001B[0m\n\u001B[1;32m   6240\u001B[0m rvalues \u001B[38;5;241m=\u001B[39m extract_array(other, extract_numpy\u001B[38;5;241m=\u001B[39m\u001B[38;5;28;01mTrue\u001B[39;00m, extract_range\u001B[38;5;241m=\u001B[39m\u001B[38;5;28;01mTrue\u001B[39;00m)\n\u001B[1;32m   6242\u001B[0m \u001B[38;5;28;01mwith\u001B[39;00m np\u001B[38;5;241m.\u001B[39merrstate(\u001B[38;5;28mall\u001B[39m\u001B[38;5;241m=\u001B[39m\u001B[38;5;124m\"\u001B[39m\u001B[38;5;124mignore\u001B[39m\u001B[38;5;124m\"\u001B[39m):\n\u001B[0;32m-> 6243\u001B[0m     res_values \u001B[38;5;241m=\u001B[39m \u001B[43mops\u001B[49m\u001B[38;5;241;43m.\u001B[39;49m\u001B[43mcomparison_op\u001B[49m\u001B[43m(\u001B[49m\u001B[43mlvalues\u001B[49m\u001B[43m,\u001B[49m\u001B[43m \u001B[49m\u001B[43mrvalues\u001B[49m\u001B[43m,\u001B[49m\u001B[43m \u001B[49m\u001B[43mop\u001B[49m\u001B[43m)\u001B[49m\n\u001B[1;32m   6245\u001B[0m \u001B[38;5;28;01mreturn\u001B[39;00m \u001B[38;5;28mself\u001B[39m\u001B[38;5;241m.\u001B[39m_construct_result(res_values, name\u001B[38;5;241m=\u001B[39mres_name)\n",
      "File \u001B[0;32m~/dev/dbnary/mwe_ldk2023/venv/lib/python3.11/site-packages/pandas/core/ops/array_ops.py:287\u001B[0m, in \u001B[0;36mcomparison_op\u001B[0;34m(left, right, op)\u001B[0m\n\u001B[1;32m    284\u001B[0m     \u001B[38;5;28;01mreturn\u001B[39;00m invalid_comparison(lvalues, rvalues, op)\n\u001B[1;32m    286\u001B[0m \u001B[38;5;28;01melif\u001B[39;00m is_object_dtype(lvalues\u001B[38;5;241m.\u001B[39mdtype) \u001B[38;5;129;01mor\u001B[39;00m \u001B[38;5;28misinstance\u001B[39m(rvalues, \u001B[38;5;28mstr\u001B[39m):\n\u001B[0;32m--> 287\u001B[0m     res_values \u001B[38;5;241m=\u001B[39m \u001B[43mcomp_method_OBJECT_ARRAY\u001B[49m\u001B[43m(\u001B[49m\u001B[43mop\u001B[49m\u001B[43m,\u001B[49m\u001B[43m \u001B[49m\u001B[43mlvalues\u001B[49m\u001B[43m,\u001B[49m\u001B[43m \u001B[49m\u001B[43mrvalues\u001B[49m\u001B[43m)\u001B[49m\n\u001B[1;32m    289\u001B[0m \u001B[38;5;28;01melse\u001B[39;00m:\n\u001B[1;32m    290\u001B[0m     res_values \u001B[38;5;241m=\u001B[39m _na_arithmetic_op(lvalues, rvalues, op, is_cmp\u001B[38;5;241m=\u001B[39m\u001B[38;5;28;01mTrue\u001B[39;00m)\n",
      "File \u001B[0;32m~/dev/dbnary/mwe_ldk2023/venv/lib/python3.11/site-packages/pandas/core/ops/array_ops.py:75\u001B[0m, in \u001B[0;36mcomp_method_OBJECT_ARRAY\u001B[0;34m(op, x, y)\u001B[0m\n\u001B[1;32m     73\u001B[0m     result \u001B[38;5;241m=\u001B[39m libops\u001B[38;5;241m.\u001B[39mvec_compare(x\u001B[38;5;241m.\u001B[39mravel(), y\u001B[38;5;241m.\u001B[39mravel(), op)\n\u001B[1;32m     74\u001B[0m \u001B[38;5;28;01melse\u001B[39;00m:\n\u001B[0;32m---> 75\u001B[0m     result \u001B[38;5;241m=\u001B[39m \u001B[43mlibops\u001B[49m\u001B[38;5;241;43m.\u001B[39;49m\u001B[43mscalar_compare\u001B[49m\u001B[43m(\u001B[49m\u001B[43mx\u001B[49m\u001B[38;5;241;43m.\u001B[39;49m\u001B[43mravel\u001B[49m\u001B[43m(\u001B[49m\u001B[43m)\u001B[49m\u001B[43m,\u001B[49m\u001B[43m \u001B[49m\u001B[43my\u001B[49m\u001B[43m,\u001B[49m\u001B[43m \u001B[49m\u001B[43mop\u001B[49m\u001B[43m)\u001B[49m\n\u001B[1;32m     76\u001B[0m \u001B[38;5;28;01mreturn\u001B[39;00m result\u001B[38;5;241m.\u001B[39mreshape(x\u001B[38;5;241m.\u001B[39mshape)\n",
      "\u001B[0;31mKeyboardInterrupt\u001B[0m: "
     ]
    }
   ],
   "source": [
    "mwe_without_pron['Computed Pronunciations'] = mwe_without_pron.apply(\n",
    "    lambda x: build_pronunciations(x['t'], x['p']), axis=1)\n",
    "mwe_without_pron['computed'], mwe_without_pron['method'] = zip(\n",
    "    *mwe_without_pron['Computed Pronunciations'])\n",
    "mwe_without_pron = mwe_without_pron.drop('Computed Pronunciations', axis=1)\n"
   ],
   "metadata": {
    "collapsed": false
   }
  },
  {
   "cell_type": "code",
   "execution_count": 141,
   "outputs": [
    {
     "data": {
      "text/plain": "p           214244\ne           214244\nt           214244\npr               0\nmweOrLE     214244\ncomputed    214244\nmethod      214244\ndtype: int64"
     },
     "execution_count": 141,
     "metadata": {},
     "output_type": "execute_result"
    }
   ],
   "source": [
    "mwe_without_pron.count()"
   ],
   "metadata": {
    "collapsed": false
   }
  },
  {
   "cell_type": "code",
   "execution_count": 142,
   "outputs": [],
   "source": [
    "mwe_without_pron.to_pickle('../data/mwe_wihout_pron.pkl')"
   ],
   "metadata": {
    "collapsed": false
   }
  },
  {
   "cell_type": "code",
   "execution_count": 143,
   "outputs": [
    {
     "data": {
      "text/plain": "                                                        p  \\\n0        http://kaiko.getalp.org/dbnary/eng/Above_Derwent   \n1       http://kaiko.getalp.org/dbnary/eng/Absolution_Day   \n2       http://kaiko.getalp.org/dbnary/eng/Abyssinian_...   \n3       http://kaiko.getalp.org/dbnary/eng/Abyssinian_cat   \n4       http://kaiko.getalp.org/dbnary/eng/Abyssinian_...   \n...                                                   ...   \n214239         http://kaiko.getalp.org/dbnary/eng/zips_it   \n214240     http://kaiko.getalp.org/dbnary/eng/zombie_cell   \n214241    http://kaiko.getalp.org/dbnary/eng/zombie_cells   \n214242  http://kaiko.getalp.org/dbnary/eng/Łódź_Voivod...   \n214243  http://kaiko.getalp.org/dbnary/eng/Świętokrzys...   \n\n                                                        e  \\\n0       http://kaiko.getalp.org/dbnary/eng/Above_Derwe...   \n1       http://kaiko.getalp.org/dbnary/eng/Absolution_...   \n2       http://kaiko.getalp.org/dbnary/eng/Abyssinian_...   \n3       http://kaiko.getalp.org/dbnary/eng/Abyssinian_...   \n4       http://kaiko.getalp.org/dbnary/eng/Abyssinian_...   \n...                                                   ...   \n214239  http://kaiko.getalp.org/dbnary/eng/zips_it__Ve...   \n214240  http://kaiko.getalp.org/dbnary/eng/zombie_cell...   \n214241  http://kaiko.getalp.org/dbnary/eng/zombie_cell...   \n214242  http://kaiko.getalp.org/dbnary/eng/Łódź_Voivod...   \n214243  http://kaiko.getalp.org/dbnary/eng/Świętokrzys...   \n\n                                 t    pr  \\\n0                    Above Derwent  None   \n1                   Absolution Day  None   \n2                Abyssinian banana  None   \n3                   Abyssinian cat  None   \n4                  Abyssinian gold  None   \n...                            ...   ...   \n214239                     zips it  None   \n214240                 zombie cell  None   \n214241                zombie cells  None   \n214242            Łódź Voivodeship  None   \n214243  Świętokrzyskie Voivodeship  None   \n\n                                                  mweOrLE  \\\n0       http://www.w3.org/ns/lemon/ontolex#MultiWordEx...   \n1       http://www.w3.org/ns/lemon/ontolex#MultiWordEx...   \n2       http://www.w3.org/ns/lemon/ontolex#MultiWordEx...   \n3       http://www.w3.org/ns/lemon/ontolex#MultiWordEx...   \n4       http://www.w3.org/ns/lemon/ontolex#MultiWordEx...   \n...                                                   ...   \n214239  http://www.w3.org/ns/lemon/ontolex#MultiWordEx...   \n214240  http://www.w3.org/ns/lemon/ontolex#MultiWordEx...   \n214241  http://www.w3.org/ns/lemon/ontolex#MultiWordEx...   \n214242  http://www.w3.org/ns/lemon/ontolex#MultiWordEx...   \n214243  http://www.w3.org/ns/lemon/ontolex#MultiWordEx...   \n\n                                                 computed  \\\n0                                                      []   \n1                                                      []   \n2       [/ˌæb.əˈsɪn.i.ən bəˈnæ.nə/, /ˌæb.əˈsɪn.i.ən bə...   \n3       [/ˌæb.əˈsɪn.i.ən kat/, /ˌæb.əˈsɪn.i.ən kæt/, /...   \n4       [/ˌæb.əˈsɪn.i.ən ɡaʉld/, /ˌæb.əˈsɪn.i.ən ɡoʊld...   \n...                                                   ...   \n214239                                                 []   \n214240                       [/ˈzɑmbi sɛl/, /ˈzɒmbi sɛl/]   \n214241                     [/ˈzɑmbi sɛlz/, /ˈzɒmbi sɛlz/]   \n214242                                                 []   \n214243                                                 []   \n\n                                       method  \n0       Missing Pronunciation for a Component  \n1       Missing Pronunciation for a Component  \n2                                 Combination  \n3                                 Combination  \n4                                 Combination  \n...                                       ...  \n214239  Missing Pronunciation for a Component  \n214240                            Combination  \n214241                            Combination  \n214242  Missing Pronunciation for a Component  \n214243  Missing Pronunciation for a Component  \n\n[214244 rows x 7 columns]",
      "text/html": "<div>\n<style scoped>\n    .dataframe tbody tr th:only-of-type {\n        vertical-align: middle;\n    }\n\n    .dataframe tbody tr th {\n        vertical-align: top;\n    }\n\n    .dataframe thead th {\n        text-align: right;\n    }\n</style>\n<table border=\"1\" class=\"dataframe\">\n  <thead>\n    <tr style=\"text-align: right;\">\n      <th></th>\n      <th>p</th>\n      <th>e</th>\n      <th>t</th>\n      <th>pr</th>\n      <th>mweOrLE</th>\n      <th>computed</th>\n      <th>method</th>\n    </tr>\n  </thead>\n  <tbody>\n    <tr>\n      <th>0</th>\n      <td>http://kaiko.getalp.org/dbnary/eng/Above_Derwent</td>\n      <td>http://kaiko.getalp.org/dbnary/eng/Above_Derwe...</td>\n      <td>Above Derwent</td>\n      <td>None</td>\n      <td>http://www.w3.org/ns/lemon/ontolex#MultiWordEx...</td>\n      <td>[]</td>\n      <td>Missing Pronunciation for a Component</td>\n    </tr>\n    <tr>\n      <th>1</th>\n      <td>http://kaiko.getalp.org/dbnary/eng/Absolution_Day</td>\n      <td>http://kaiko.getalp.org/dbnary/eng/Absolution_...</td>\n      <td>Absolution Day</td>\n      <td>None</td>\n      <td>http://www.w3.org/ns/lemon/ontolex#MultiWordEx...</td>\n      <td>[]</td>\n      <td>Missing Pronunciation for a Component</td>\n    </tr>\n    <tr>\n      <th>2</th>\n      <td>http://kaiko.getalp.org/dbnary/eng/Abyssinian_...</td>\n      <td>http://kaiko.getalp.org/dbnary/eng/Abyssinian_...</td>\n      <td>Abyssinian banana</td>\n      <td>None</td>\n      <td>http://www.w3.org/ns/lemon/ontolex#MultiWordEx...</td>\n      <td>[/ˌæb.əˈsɪn.i.ən bəˈnæ.nə/, /ˌæb.əˈsɪn.i.ən bə...</td>\n      <td>Combination</td>\n    </tr>\n    <tr>\n      <th>3</th>\n      <td>http://kaiko.getalp.org/dbnary/eng/Abyssinian_cat</td>\n      <td>http://kaiko.getalp.org/dbnary/eng/Abyssinian_...</td>\n      <td>Abyssinian cat</td>\n      <td>None</td>\n      <td>http://www.w3.org/ns/lemon/ontolex#MultiWordEx...</td>\n      <td>[/ˌæb.əˈsɪn.i.ən kat/, /ˌæb.əˈsɪn.i.ən kæt/, /...</td>\n      <td>Combination</td>\n    </tr>\n    <tr>\n      <th>4</th>\n      <td>http://kaiko.getalp.org/dbnary/eng/Abyssinian_...</td>\n      <td>http://kaiko.getalp.org/dbnary/eng/Abyssinian_...</td>\n      <td>Abyssinian gold</td>\n      <td>None</td>\n      <td>http://www.w3.org/ns/lemon/ontolex#MultiWordEx...</td>\n      <td>[/ˌæb.əˈsɪn.i.ən ɡaʉld/, /ˌæb.əˈsɪn.i.ən ɡoʊld...</td>\n      <td>Combination</td>\n    </tr>\n    <tr>\n      <th>...</th>\n      <td>...</td>\n      <td>...</td>\n      <td>...</td>\n      <td>...</td>\n      <td>...</td>\n      <td>...</td>\n      <td>...</td>\n    </tr>\n    <tr>\n      <th>214239</th>\n      <td>http://kaiko.getalp.org/dbnary/eng/zips_it</td>\n      <td>http://kaiko.getalp.org/dbnary/eng/zips_it__Ve...</td>\n      <td>zips it</td>\n      <td>None</td>\n      <td>http://www.w3.org/ns/lemon/ontolex#MultiWordEx...</td>\n      <td>[]</td>\n      <td>Missing Pronunciation for a Component</td>\n    </tr>\n    <tr>\n      <th>214240</th>\n      <td>http://kaiko.getalp.org/dbnary/eng/zombie_cell</td>\n      <td>http://kaiko.getalp.org/dbnary/eng/zombie_cell...</td>\n      <td>zombie cell</td>\n      <td>None</td>\n      <td>http://www.w3.org/ns/lemon/ontolex#MultiWordEx...</td>\n      <td>[/ˈzɑmbi sɛl/, /ˈzɒmbi sɛl/]</td>\n      <td>Combination</td>\n    </tr>\n    <tr>\n      <th>214241</th>\n      <td>http://kaiko.getalp.org/dbnary/eng/zombie_cells</td>\n      <td>http://kaiko.getalp.org/dbnary/eng/zombie_cell...</td>\n      <td>zombie cells</td>\n      <td>None</td>\n      <td>http://www.w3.org/ns/lemon/ontolex#MultiWordEx...</td>\n      <td>[/ˈzɑmbi sɛlz/, /ˈzɒmbi sɛlz/]</td>\n      <td>Combination</td>\n    </tr>\n    <tr>\n      <th>214242</th>\n      <td>http://kaiko.getalp.org/dbnary/eng/Łódź_Voivod...</td>\n      <td>http://kaiko.getalp.org/dbnary/eng/Łódź_Voivod...</td>\n      <td>Łódź Voivodeship</td>\n      <td>None</td>\n      <td>http://www.w3.org/ns/lemon/ontolex#MultiWordEx...</td>\n      <td>[]</td>\n      <td>Missing Pronunciation for a Component</td>\n    </tr>\n    <tr>\n      <th>214243</th>\n      <td>http://kaiko.getalp.org/dbnary/eng/Świętokrzys...</td>\n      <td>http://kaiko.getalp.org/dbnary/eng/Świętokrzys...</td>\n      <td>Świętokrzyskie Voivodeship</td>\n      <td>None</td>\n      <td>http://www.w3.org/ns/lemon/ontolex#MultiWordEx...</td>\n      <td>[]</td>\n      <td>Missing Pronunciation for a Component</td>\n    </tr>\n  </tbody>\n</table>\n<p>214244 rows × 7 columns</p>\n</div>"
     },
     "execution_count": 143,
     "metadata": {},
     "output_type": "execute_result"
    }
   ],
   "source": [
    "mwe_without_pron"
   ],
   "metadata": {
    "collapsed": false
   }
  },
  {
   "cell_type": "code",
   "execution_count": 144,
   "outputs": [
    {
     "data": {
      "text/plain": "                                            p       e       t  pr  mweOrLE  \\\nmethod                                                                       \nCombination                            114969  114969  114969   0   114969   \nHeteronymy                               2246    2246    2246   0     2246   \nMissing Pronunciation for a Component   86689   86689   86689   0    86689   \nNo Derivation for Heteronymy            10340   10340   10340   0    10340   \n\n                                       computed  \nmethod                                           \nCombination                              114969  \nHeteronymy                                 2246  \nMissing Pronunciation for a Component     86689  \nNo Derivation for Heteronymy              10340  ",
      "text/html": "<div>\n<style scoped>\n    .dataframe tbody tr th:only-of-type {\n        vertical-align: middle;\n    }\n\n    .dataframe tbody tr th {\n        vertical-align: top;\n    }\n\n    .dataframe thead th {\n        text-align: right;\n    }\n</style>\n<table border=\"1\" class=\"dataframe\">\n  <thead>\n    <tr style=\"text-align: right;\">\n      <th></th>\n      <th>p</th>\n      <th>e</th>\n      <th>t</th>\n      <th>pr</th>\n      <th>mweOrLE</th>\n      <th>computed</th>\n    </tr>\n    <tr>\n      <th>method</th>\n      <th></th>\n      <th></th>\n      <th></th>\n      <th></th>\n      <th></th>\n      <th></th>\n    </tr>\n  </thead>\n  <tbody>\n    <tr>\n      <th>Combination</th>\n      <td>114969</td>\n      <td>114969</td>\n      <td>114969</td>\n      <td>0</td>\n      <td>114969</td>\n      <td>114969</td>\n    </tr>\n    <tr>\n      <th>Heteronymy</th>\n      <td>2246</td>\n      <td>2246</td>\n      <td>2246</td>\n      <td>0</td>\n      <td>2246</td>\n      <td>2246</td>\n    </tr>\n    <tr>\n      <th>Missing Pronunciation for a Component</th>\n      <td>86689</td>\n      <td>86689</td>\n      <td>86689</td>\n      <td>0</td>\n      <td>86689</td>\n      <td>86689</td>\n    </tr>\n    <tr>\n      <th>No Derivation for Heteronymy</th>\n      <td>10340</td>\n      <td>10340</td>\n      <td>10340</td>\n      <td>0</td>\n      <td>10340</td>\n      <td>10340</td>\n    </tr>\n  </tbody>\n</table>\n</div>"
     },
     "execution_count": 144,
     "metadata": {},
     "output_type": "execute_result"
    }
   ],
   "source": [
    "mwe_without_pron.groupby('method').count()"
   ],
   "metadata": {
    "collapsed": false
   }
  },
  {
   "cell_type": "code",
   "execution_count": null,
   "outputs": [],
   "source": [],
   "metadata": {
    "collapsed": false
   }
  }
 ]
}
